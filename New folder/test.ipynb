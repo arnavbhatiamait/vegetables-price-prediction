{
 "cells": [
  {
   "cell_type": "code",
   "execution_count": 8,
   "metadata": {},
   "outputs": [
    {
     "data": {
      "text/plain": [
       "==========================================================================================\n",
       "Layer (type:depth-idx)                   Output Shape              Param #\n",
       "==========================================================================================\n",
       "PricePredictionModel                     [1]                       --\n",
       "├─Linear: 1-1                            [16]                      144\n",
       "├─Linear: 1-2                            [256]                     4,352\n",
       "├─Linear: 1-3                            [64]                      16,448\n",
       "├─Linear: 1-4                            [32]                      2,080\n",
       "├─Linear: 1-5                            [16]                      528\n",
       "├─Linear: 1-6                            [1]                       17\n",
       "==========================================================================================\n",
       "Total params: 23,569\n",
       "Trainable params: 23,569\n",
       "Non-trainable params: 0\n",
       "Total mult-adds (Units.MEGABYTES): 2.24\n",
       "==========================================================================================\n",
       "Input size (MB): 0.00\n",
       "Forward/backward pass size (MB): 0.00\n",
       "Params size (MB): 0.09\n",
       "Estimated Total Size (MB): 0.10\n",
       "=========================================================================================="
      ]
     },
     "execution_count": 8,
     "metadata": {},
     "output_type": "execute_result"
    }
   ],
   "source": [
    "import streamlit as st\n",
    "import torch\n",
    "import pandas as pd\n",
    "import numpy as np\n",
    "from torch import nn\n",
    "import torch\n",
    "import torch.nn as nn\n",
    "import torch.optim as optim\n",
    "from torch.utils.data import TensorDataset, DataLoader\n",
    "from tqdm.auto import tqdm\n",
    "from torchvision import *\n",
    "from torchinfo import summary\n",
    "class PricePredictionModel(nn.Module):\n",
    "\n",
    "    def __init__(self):\n",
    "        super(PricePredictionModel, self).__init__()\n",
    "        # self.fc1 = nn.Linear(7, 64)\n",
    "        # self.fc1 = nn.Linear(8, 512)\n",
    "        # self.fc1 = nn.Linear(8, 32)\n",
    "        self.fc1 = nn.Linear(8, 16)\n",
    "        # self.fc2 = nn.Linear(32, 256)\n",
    "        self.fc2 = nn.Linear(16, 256)\n",
    "        # self.fc2 = nn.Linear(512, 256)\n",
    "        self.fc3=nn.Linear(256,64)\n",
    "        # self.conv=nn.Conv1d(in_channels=128,out_channels=64,kernel_size=2)\n",
    "        self.fc4 = nn.Linear(64, 32)\n",
    "        self.fc5 = nn.Linear(32, 16)\n",
    "        self.output = nn.Linear(16, 1)\n",
    "    def forward(self, x):\n",
    "        x = torch.relu(self.fc1(x))\n",
    "        x = torch.relu(self.fc2(x))\n",
    "        x = torch.relu(self.fc3(x))\n",
    "        # x=self.conv(x)\n",
    "        x = torch.relu(self.fc4(x))\n",
    "        x = torch.relu(self.fc5(x))\n",
    "        x = self.output(x)\n",
    "        return x\n",
    "model=PricePredictionModel().to(\"cuda\")\n",
    "summary=summary(model,input_size=(8,))\n",
    "summary"
   ]
  }
 ],
 "metadata": {
  "kernelspec": {
   "display_name": "Python 3",
   "language": "python",
   "name": "python3"
  },
  "language_info": {
   "codemirror_mode": {
    "name": "ipython",
    "version": 3
   },
   "file_extension": ".py",
   "mimetype": "text/x-python",
   "name": "python",
   "nbconvert_exporter": "python",
   "pygments_lexer": "ipython3",
   "version": "3.12.4"
  }
 },
 "nbformat": 4,
 "nbformat_minor": 2
}
