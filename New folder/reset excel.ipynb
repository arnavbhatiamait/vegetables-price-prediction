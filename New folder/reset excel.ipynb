{
 "cells": [
  {
   "cell_type": "code",
   "execution_count": 43,
   "metadata": {},
   "outputs": [
    {
     "data": {
      "text/html": [
       "<div>\n",
       "<style scoped>\n",
       "    .dataframe tbody tr th:only-of-type {\n",
       "        vertical-align: middle;\n",
       "    }\n",
       "\n",
       "    .dataframe tbody tr th {\n",
       "        vertical-align: top;\n",
       "    }\n",
       "\n",
       "    .dataframe thead th {\n",
       "        text-align: right;\n",
       "    }\n",
       "</style>\n",
       "<table border=\"1\" class=\"dataframe\">\n",
       "  <thead>\n",
       "    <tr style=\"text-align: right;\">\n",
       "      <th></th>\n",
       "      <th>Sl no.</th>\n",
       "      <th>District Name</th>\n",
       "      <th>Market Name</th>\n",
       "      <th>Commodity</th>\n",
       "      <th>Variety</th>\n",
       "      <th>Grade</th>\n",
       "      <th>Min Price (Rs./Quintal)</th>\n",
       "      <th>Max Price (Rs./Quintal)</th>\n",
       "      <th>Modal Price (Rs./Quintal)</th>\n",
       "      <th>Price Date</th>\n",
       "    </tr>\n",
       "  </thead>\n",
       "  <tbody>\n",
       "    <tr>\n",
       "      <th>0</th>\n",
       "      <td>1</td>\n",
       "      <td>Angul</td>\n",
       "      <td>Angul</td>\n",
       "      <td>Almond(Badam)</td>\n",
       "      <td>Other</td>\n",
       "      <td>FAQ</td>\n",
       "      <td>2500.0</td>\n",
       "      <td>3000.0</td>\n",
       "      <td>2800.0</td>\n",
       "      <td>2015-09-28</td>\n",
       "    </tr>\n",
       "    <tr>\n",
       "      <th>1</th>\n",
       "      <td>2</td>\n",
       "      <td>Angul</td>\n",
       "      <td>Angul</td>\n",
       "      <td>Almond(Badam)</td>\n",
       "      <td>Other</td>\n",
       "      <td>FAQ</td>\n",
       "      <td>4000.0</td>\n",
       "      <td>5000.0</td>\n",
       "      <td>4500.0</td>\n",
       "      <td>2015-08-02</td>\n",
       "    </tr>\n",
       "    <tr>\n",
       "      <th>2</th>\n",
       "      <td>3</td>\n",
       "      <td>Angul</td>\n",
       "      <td>Angul</td>\n",
       "      <td>Almond(Badam)</td>\n",
       "      <td>Other</td>\n",
       "      <td>FAQ</td>\n",
       "      <td>4000.0</td>\n",
       "      <td>5000.0</td>\n",
       "      <td>4500.0</td>\n",
       "      <td>2015-07-12</td>\n",
       "    </tr>\n",
       "    <tr>\n",
       "      <th>3</th>\n",
       "      <td>4</td>\n",
       "      <td>Angul</td>\n",
       "      <td>Angul</td>\n",
       "      <td>Almond(Badam)</td>\n",
       "      <td>Other</td>\n",
       "      <td>FAQ</td>\n",
       "      <td>4000.0</td>\n",
       "      <td>5000.0</td>\n",
       "      <td>4500.0</td>\n",
       "      <td>2015-08-16</td>\n",
       "    </tr>\n",
       "    <tr>\n",
       "      <th>4</th>\n",
       "      <td>5</td>\n",
       "      <td>Angul</td>\n",
       "      <td>Angul</td>\n",
       "      <td>Almond(Badam)</td>\n",
       "      <td>Other</td>\n",
       "      <td>FAQ</td>\n",
       "      <td>4000.0</td>\n",
       "      <td>5000.0</td>\n",
       "      <td>4500.0</td>\n",
       "      <td>2015-07-19</td>\n",
       "    </tr>\n",
       "    <tr>\n",
       "      <th>...</th>\n",
       "      <td>...</td>\n",
       "      <td>...</td>\n",
       "      <td>...</td>\n",
       "      <td>...</td>\n",
       "      <td>...</td>\n",
       "      <td>...</td>\n",
       "      <td>...</td>\n",
       "      <td>...</td>\n",
       "      <td>...</td>\n",
       "      <td>...</td>\n",
       "    </tr>\n",
       "    <tr>\n",
       "      <th>68415</th>\n",
       "      <td>2034</td>\n",
       "      <td>Solan</td>\n",
       "      <td>Solan(Rajgarh)</td>\n",
       "      <td>Apricot(Jardalu/Khumani)</td>\n",
       "      <td>Other</td>\n",
       "      <td>Medium</td>\n",
       "      <td>2500.0</td>\n",
       "      <td>3000.0</td>\n",
       "      <td>2800.0</td>\n",
       "      <td>2019-05-23</td>\n",
       "    </tr>\n",
       "    <tr>\n",
       "      <th>68416</th>\n",
       "      <td>2035</td>\n",
       "      <td>Solan</td>\n",
       "      <td>Solan(Rajgarh)</td>\n",
       "      <td>Apricot(Jardalu/Khumani)</td>\n",
       "      <td>Other</td>\n",
       "      <td>Medium</td>\n",
       "      <td>2500.0</td>\n",
       "      <td>3000.0</td>\n",
       "      <td>2800.0</td>\n",
       "      <td>2019-05-24</td>\n",
       "    </tr>\n",
       "    <tr>\n",
       "      <th>68417</th>\n",
       "      <td>2036</td>\n",
       "      <td>Solan</td>\n",
       "      <td>Solan(Rajgarh)</td>\n",
       "      <td>Apricot(Jardalu/Khumani)</td>\n",
       "      <td>Other</td>\n",
       "      <td>Medium</td>\n",
       "      <td>2500.0</td>\n",
       "      <td>7000.0</td>\n",
       "      <td>6000.0</td>\n",
       "      <td>2019-05-15</td>\n",
       "    </tr>\n",
       "    <tr>\n",
       "      <th>68418</th>\n",
       "      <td>2037</td>\n",
       "      <td>Solan</td>\n",
       "      <td>Solan(Rajgarh)</td>\n",
       "      <td>Apricot(Jardalu/Khumani)</td>\n",
       "      <td>Other</td>\n",
       "      <td>Medium</td>\n",
       "      <td>2800.0</td>\n",
       "      <td>3200.0</td>\n",
       "      <td>3000.0</td>\n",
       "      <td>2019-05-27</td>\n",
       "    </tr>\n",
       "    <tr>\n",
       "      <th>68419</th>\n",
       "      <td>2038</td>\n",
       "      <td>Dehradoon</td>\n",
       "      <td>Vikasnagar</td>\n",
       "      <td>Apricot(Jardalu/Khumani)</td>\n",
       "      <td>Other</td>\n",
       "      <td>Medium</td>\n",
       "      <td>2500.0</td>\n",
       "      <td>2500.0</td>\n",
       "      <td>2500.0</td>\n",
       "      <td>2024-01-21</td>\n",
       "    </tr>\n",
       "  </tbody>\n",
       "</table>\n",
       "<p>68420 rows × 10 columns</p>\n",
       "</div>"
      ],
      "text/plain": [
       "       Sl no. District Name     Market Name                 Commodity Variety  \\\n",
       "0           1         Angul           Angul             Almond(Badam)   Other   \n",
       "1           2         Angul           Angul             Almond(Badam)   Other   \n",
       "2           3         Angul           Angul             Almond(Badam)   Other   \n",
       "3           4         Angul           Angul             Almond(Badam)   Other   \n",
       "4           5         Angul           Angul             Almond(Badam)   Other   \n",
       "...       ...           ...             ...                       ...     ...   \n",
       "68415    2034         Solan  Solan(Rajgarh)  Apricot(Jardalu/Khumani)   Other   \n",
       "68416    2035         Solan  Solan(Rajgarh)  Apricot(Jardalu/Khumani)   Other   \n",
       "68417    2036         Solan  Solan(Rajgarh)  Apricot(Jardalu/Khumani)   Other   \n",
       "68418    2037         Solan  Solan(Rajgarh)  Apricot(Jardalu/Khumani)   Other   \n",
       "68419    2038     Dehradoon      Vikasnagar  Apricot(Jardalu/Khumani)   Other   \n",
       "\n",
       "        Grade  Min Price (Rs./Quintal)  Max Price (Rs./Quintal)  \\\n",
       "0         FAQ                   2500.0                   3000.0   \n",
       "1         FAQ                   4000.0                   5000.0   \n",
       "2         FAQ                   4000.0                   5000.0   \n",
       "3         FAQ                   4000.0                   5000.0   \n",
       "4         FAQ                   4000.0                   5000.0   \n",
       "...       ...                      ...                      ...   \n",
       "68415  Medium                   2500.0                   3000.0   \n",
       "68416  Medium                   2500.0                   3000.0   \n",
       "68417  Medium                   2500.0                   7000.0   \n",
       "68418  Medium                   2800.0                   3200.0   \n",
       "68419  Medium                   2500.0                   2500.0   \n",
       "\n",
       "       Modal Price (Rs./Quintal) Price Date  \n",
       "0                         2800.0 2015-09-28  \n",
       "1                         4500.0 2015-08-02  \n",
       "2                         4500.0 2015-07-12  \n",
       "3                         4500.0 2015-08-16  \n",
       "4                         4500.0 2015-07-19  \n",
       "...                          ...        ...  \n",
       "68415                     2800.0 2019-05-23  \n",
       "68416                     2800.0 2019-05-24  \n",
       "68417                     6000.0 2019-05-15  \n",
       "68418                     3000.0 2019-05-27  \n",
       "68419                     2500.0 2024-01-21  \n",
       "\n",
       "[68420 rows x 10 columns]"
      ]
     },
     "execution_count": 43,
     "metadata": {},
     "output_type": "execute_result"
    }
   ],
   "source": [
    "import pandas as pd\n",
    "df=pd.read_excel(\"New Microsoft Excel Worksheet.xlsx\",sheet_name=\"Sheet1\")\n",
    "df"
   ]
  },
  {
   "cell_type": "code",
   "execution_count": 44,
   "metadata": {},
   "outputs": [
    {
     "data": {
      "text/plain": [
       "Index(['Sl no.', 'District Name', 'Market Name', 'Commodity', 'Variety',\n",
       "       'Grade', 'Min Price (Rs./Quintal)', 'Max Price (Rs./Quintal)',\n",
       "       'Modal Price (Rs./Quintal)', 'Price Date'],\n",
       "      dtype='object')"
      ]
     },
     "execution_count": 44,
     "metadata": {},
     "output_type": "execute_result"
    }
   ],
   "source": [
    "df.columns"
   ]
  },
  {
   "cell_type": "code",
   "execution_count": 45,
   "metadata": {},
   "outputs": [
    {
     "data": {
      "text/plain": [
       "array(['Angul', 'Cuttack', 'Kanpur Dehat', 'Kalimpong', 'Muktsar',\n",
       "       'Mumbai', 'Kollam', 'Shimla', 'Mewat', 'Badgam', 'Neemuch',\n",
       "       'Umariya', 'Kurnool', 'Akola', 'Jalgaon', 'Amreli', 'Kachchh',\n",
       "       'Ashoknagar', 'Ujjain', 'Jaipur Rural', 'Koria', 'Chittorgarh',\n",
       "       'Jamnagar', 'Bhilwara', 'Bhopal', 'Bhiwani', 'Patan', 'Mandsaur',\n",
       "       'Amarawati', 'Surendranagar', 'Datia', 'Nagaur', 'Banaskanth',\n",
       "       'Udaipur', 'Guna', 'Rayagada', 'Morbi', 'Hyderabad', 'Jaipur',\n",
       "       'Devbhumi Dwarka', 'Ratlam', 'Jodhpur', 'Mehsana', 'Katni',\n",
       "       'Buldhana', 'Anupur', 'Kurukshetra', 'Dausa',\n",
       "       'Chattrapati Sambhajinagar', 'Ajmer', 'Tonk', 'Ahmedabad',\n",
       "       'Ranga Reddy', 'Kheda', 'Nandurbar', 'Surat', 'Jodhpur Rural',\n",
       "       'Shivpuri', 'Porbandar', 'Pratapgarh', 'Kota', 'Medak', 'Indore',\n",
       "       'Raipur', 'Panna', 'Satna', 'Kanker', 'Dharwad', 'Hassan',\n",
       "       'Bagalkot', 'Bangalore', 'Kotputli- Behror', 'Bellary', 'Shehdol',\n",
       "       'Betul', 'Chhatarpur', 'Rewa', 'Chamrajnagar', 'Kolar',\n",
       "       'Chitradurga', 'Davangere', 'Koppal', 'Tumkur',\n",
       "       'Karwar(Uttar Kannad)', 'Jhabua', 'Mysore', 'Chikmagalur',\n",
       "       'Kalburgi', 'Karimnagar', 'Khargone', 'Seoni', 'Sagar', 'Khammam',\n",
       "       'Raigarh', 'Bilaspur', 'Gadag', 'Coimbatore', 'Mahbubnagar',\n",
       "       'Mandla', 'Mandya', 'Mangalore(Dakshin Kannad)', 'Rohtak',\n",
       "       'Sehore', 'Belgaum', 'Raichur', 'Haveri', 'Rajgarh', 'Dindori',\n",
       "       'Raisen', 'Surajpur', 'Balaghat', 'Gir Somnath', 'Rampur',\n",
       "       'Yadgiri', 'Amritsar', 'Jhajar', 'Faridabad', 'Ferozpur',\n",
       "       'UdhamSinghNagar', 'Khandwa', 'Adilabad', 'Ernakulam', 'Patiala',\n",
       "       'Ludhiana', 'Shimoga', 'Udupi', 'Bastar', 'Dantewada',\n",
       "       'Sant Kabir Nagar', 'Swai Madhopur', 'Sidhi', 'Singroli',\n",
       "       'Fazilka', 'Sangrur', 'Ambedkarnagar', 'Ambala', 'Salem',\n",
       "       'Madurai', 'Bharuch', 'Vellore', 'Ranipet', 'Dharmapuri', 'Delhi',\n",
       "       'Ballia', 'Barnala', 'Gurdaspur', 'Chandrapur', 'Thiruvannamalai',\n",
       "       'Dindigul', 'Theni', 'Cuddalore', 'Sirsa', 'Hoshiarpur',\n",
       "       'Dehradoon', 'Sivaganga', 'Gariyaband', 'Dhar', 'Moga', 'Thirupur',\n",
       "       'North and Middle Andaman ', 'Ayodhya', 'Faridkot', 'Maharajganj',\n",
       "       'Erode', 'Nanital', 'Hamirpur', 'Palwal', 'Krishnagiri', 'Amethi',\n",
       "       'Madhubani', 'Chengalpattu', 'Prayagraj', 'Villupuram',\n",
       "       'Kallakuruchi', 'Kancheepuram', 'Karur', 'Idukki', 'Anand',\n",
       "       'Kolhapur', 'Malappuram', 'Koraput', 'Garhwal (Pauri)', 'Namakkal',\n",
       "       'Thanjavur', 'Raebarelli', 'Thiruchirappalli', 'Mohali', 'Gwalior',\n",
       "       'Mandi', 'Bhatinda', 'Thirunelveli', 'Ropar (Rupnagar)',\n",
       "       'Nagapattinam', 'Dhamtari', 'Nagpur', 'Bijnor', 'Narayanpur',\n",
       "       'Jammu', 'Thirupathur', 'Nawanshahr', 'Pathankot', 'Perambalur',\n",
       "       'Pudukkottai', 'Pune', 'Ahmednagar', 'Tenkasi', 'Muzaffarnagar',\n",
       "       'Sheopur', 'Ramanathapuram', 'Thiruvarur', 'Tuticorin',\n",
       "       'Fatehabad', 'The Nilgiris', 'Unnao', 'Nagercoil (Kannyiakumari)',\n",
       "       'Vadodara(Baroda)', 'Kanpur', 'Kondagaon', 'Sukma', 'Balrampur',\n",
       "       'Madikeri(Kodagu)', 'Anantnag', 'Kullu', 'Srinagar', 'Jalandhar',\n",
       "       'Kangra', 'Baramulla', 'Pulwama', 'Solan'], dtype=object)"
      ]
     },
     "execution_count": 45,
     "metadata": {},
     "output_type": "execute_result"
    }
   ],
   "source": [
    "df[\"District Name\"].unique()"
   ]
  },
  {
   "cell_type": "code",
   "execution_count": 46,
   "metadata": {},
   "outputs": [
    {
     "name": "stdout",
     "output_type": "stream",
     "text": [
      "<class 'pandas.core.frame.DataFrame'>\n",
      "RangeIndex: 68420 entries, 0 to 68419\n",
      "Data columns (total 10 columns):\n",
      " #   Column                     Non-Null Count  Dtype         \n",
      "---  ------                     --------------  -----         \n",
      " 0   Sl no.                     68420 non-null  int64         \n",
      " 1   District Name              68420 non-null  object        \n",
      " 2   Market Name                68420 non-null  object        \n",
      " 3   Commodity                  68420 non-null  object        \n",
      " 4   Variety                    68420 non-null  object        \n",
      " 5   Grade                      68420 non-null  object        \n",
      " 6   Min Price (Rs./Quintal)    68420 non-null  float64       \n",
      " 7   Max Price (Rs./Quintal)    68420 non-null  float64       \n",
      " 8   Modal Price (Rs./Quintal)  68420 non-null  float64       \n",
      " 9   Price Date                 68420 non-null  datetime64[ns]\n",
      "dtypes: datetime64[ns](1), float64(3), int64(1), object(5)\n",
      "memory usage: 5.2+ MB\n"
     ]
    }
   ],
   "source": [
    "df.info()"
   ]
  },
  {
   "cell_type": "code",
   "execution_count": 47,
   "metadata": {},
   "outputs": [],
   "source": [
    "# district_to_state = {\n",
    "#     'Angul': 'Odisha',\n",
    "#     'Cuttack': 'Odisha',\n",
    "#     'Kanpur Dehat': 'Uttar Pradesh',\n",
    "#     'Kalimpong': 'West Bengal',\n",
    "#     'Muktsar': 'Punjab',\n",
    "#     'Mumbai': 'Maharashtra',\n",
    "#     'Kollam': 'Kerala',\n",
    "#     'Shimla': 'Himachal Pradesh',\n",
    "#     'Mewat': 'Haryana',\n",
    "#     'Badgam': 'Jammu and Kashmir'\n",
    "# }\n",
    "district_to_state = {\n",
    "    'Angul': 'Odisha',\n",
    "    'Cuttack': 'Odisha',\n",
    "    'Kanpur Dehat': 'Uttar Pradesh',\n",
    "    'Kalimpong': 'West Bengal',\n",
    "    'Muktsar': 'Punjab',\n",
    "    'Mumbai': 'Maharashtra',\n",
    "    'Kollam': 'Kerala',\n",
    "    'Shimla': 'Himachal Pradesh',\n",
    "    'Mewat': 'Haryana',\n",
    "    'Badgam': 'Jammu and Kashmir',\n",
    "    'Neemuch': 'Madhya Pradesh',\n",
    "    'Umariya': 'Madhya Pradesh',\n",
    "    'Kurnool': 'Andhra Pradesh',\n",
    "    'Akola': 'Maharashtra',\n",
    "    'Jalgaon': 'Maharashtra',\n",
    "    'Amreli': 'Gujarat',\n",
    "    'Kachchh': 'Gujarat',\n",
    "    'Ashoknagar': 'Madhya Pradesh',\n",
    "    'Ujjain': 'Madhya Pradesh',\n",
    "    'Jaipur Rural': 'Rajasthan',\n",
    "    'Koria': 'Chhattisgarh',\n",
    "    'Chittorgarh': 'Rajasthan',\n",
    "    'Jamnagar': 'Gujarat',\n",
    "    'Bhilwara': 'Rajasthan',\n",
    "    'Bhopal': 'Madhya Pradesh',\n",
    "    'Bhiwani': 'Haryana',\n",
    "    'Patan': 'Gujarat',\n",
    "    'Mandsaur': 'Madhya Pradesh',\n",
    "    'Amarawati': 'Maharashtra',\n",
    "    'Surendranagar': 'Gujarat',\n",
    "    'Datia': 'Madhya Pradesh',\n",
    "    'Nagaur': 'Rajasthan',\n",
    "    'Banaskantha': 'Gujarat',\n",
    "    'Udaipur': 'Rajasthan',\n",
    "    'Guna': 'Madhya Pradesh',\n",
    "    'Rayagada': 'Odisha',\n",
    "    'Morbi': 'Gujarat',\n",
    "    'Hyderabad': 'Telangana',\n",
    "    'Jaipur': 'Rajasthan',\n",
    "    'Devbhumi Dwarka': 'Gujarat',\n",
    "    'Ratlam': 'Madhya Pradesh',\n",
    "    'Jodhpur': 'Rajasthan',\n",
    "    'Mehsana': 'Gujarat',\n",
    "    'Katni': 'Madhya Pradesh',\n",
    "    'Buldhana': 'Maharashtra',\n",
    "    'Anupur': 'Madhya Pradesh',\n",
    "    'Kurukshetra': 'Haryana',\n",
    "    'Dausa': 'Rajasthan',\n",
    "    'Chattrapati Sambhajinagar': 'Maharashtra',\n",
    "    'Ajmer': 'Rajasthan',\n",
    "    'Tonk': 'Rajasthan',\n",
    "    'Ahmedabad': 'Gujarat',\n",
    "    'Ranga Reddy': 'Telangana',\n",
    "    'Kheda': 'Gujarat',\n",
    "    'Nandurbar': 'Maharashtra',\n",
    "    'Surat': 'Gujarat',\n",
    "    'Jodhpur Rural': 'Rajasthan',\n",
    "    'Shivpuri': 'Madhya Pradesh',\n",
    "    'Porbandar': 'Gujarat',\n",
    "    'Pratapgarh': 'Rajasthan',\n",
    "    'Kota': 'Rajasthan',\n",
    "    'Medak': 'Telangana',\n",
    "    'Indore': 'Madhya Pradesh',\n",
    "    'Raipur': 'Chhattisgarh',\n",
    "    'Panna': 'Madhya Pradesh',\n",
    "    'Satna': 'Madhya Pradesh',\n",
    "    'Kanker': 'Chhattisgarh',\n",
    "    'Dharwad': 'Karnataka',\n",
    "    'Hassan': 'Karnataka',\n",
    "    'Bagalkot': 'Karnataka',\n",
    "    'Bangalore': 'Karnataka',\n",
    "    'Kotputli- Behror': 'Rajasthan',\n",
    "    'Bellary': 'Karnataka',\n",
    "    'Shehdol': 'Madhya Pradesh',\n",
    "    'Betul': 'Madhya Pradesh',\n",
    "    'Chhatarpur': 'Madhya Pradesh',\n",
    "    'Rewa': 'Madhya Pradesh',\n",
    "    'Chamrajnagar': 'Karnataka',\n",
    "    'Kolar': 'Karnataka',\n",
    "    'Chitradurga': 'Karnataka',\n",
    "    'Davangere': 'Karnataka',\n",
    "    'Koppal': 'Karnataka',\n",
    "    'Tumkur': 'Karnataka',\n",
    "    'Karwar(Uttar Kannad)': 'Karnataka',\n",
    "    'Jhabua': 'Madhya Pradesh',\n",
    "    'Mysore': 'Karnataka',\n",
    "    'Chikmagalur': 'Karnataka',\n",
    "    'Kalburgi': 'Karnataka',\n",
    "    'Karimnagar': 'Telangana',\n",
    "    'Khargone': 'Madhya Pradesh',\n",
    "    'Seoni': 'Madhya Pradesh',\n",
    "    'Sagar': 'Madhya Pradesh',\n",
    "    'Khammam': 'Telangana',\n",
    "    'Raigarh': 'Chhattisgarh',\n",
    "    'Bilaspur': 'Chhattisgarh',\n",
    "    'Gadag': 'Karnataka',\n",
    "    'Coimbatore': 'Tamil Nadu',\n",
    "    'Mahbubnagar': 'Telangana',\n",
    "    'Mandla': 'Madhya Pradesh',\n",
    "    'Mandya': 'Karnataka',\n",
    "    'Mangalore(Dakshin Kannad)': 'Karnataka',\n",
    "    'Rohtak': 'Haryana',\n",
    "    'Sehore': 'Madhya Pradesh',\n",
    "    'Belgaum': 'Karnataka',\n",
    "    'Raichur': 'Karnataka',\n",
    "    'Haveri': 'Karnataka',\n",
    "    'Rajgarh': 'Madhya Pradesh',\n",
    "    'Dindori': 'Madhya Pradesh',\n",
    "    'Raisen': 'Madhya Pradesh',\n",
    "    'Surajpur': 'Chhattisgarh',\n",
    "    'Balaghat': 'Madhya Pradesh',\n",
    "    'Gir Somnath': 'Gujarat',\n",
    "    'Rampur': 'Uttar Pradesh',\n",
    "    'Yadgiri': 'Karnataka',\n",
    "    'Amritsar': 'Punjab',\n",
    "    'Jhajar': 'Haryana',\n",
    "    'Faridabad': 'Haryana',\n",
    "    'Ferozpur': 'Punjab',\n",
    "    'UdhamSinghNagar': 'Uttarakhand',\n",
    "    'Khandwa': 'Madhya Pradesh',\n",
    "    'Adilabad': 'Telangana',\n",
    "    'Ernakulam': 'Kerala',\n",
    "    'Patiala': 'Punjab',\n",
    "    'Ludhiana': 'Punjab',\n",
    "    'Shimoga': 'Karnataka',\n",
    "    'Udupi': 'Karnataka',\n",
    "    'Bastar': 'Chhattisgarh',\n",
    "    'Dantewada': 'Chhattisgarh',\n",
    "    'Sant Kabir Nagar': 'Uttar Pradesh',\n",
    "    'Swai Madhopur': 'Rajasthan',\n",
    "    'Sidhi': 'Madhya Pradesh',\n",
    "    'Singroli': 'Madhya Pradesh',\n",
    "    'Fazilka': 'Punjab',\n",
    "    'Sangrur': 'Punjab',\n",
    "    'Ambedkarnagar': 'Uttar Pradesh',\n",
    "    'Ambala': 'Haryana',\n",
    "    'Salem': 'Tamil Nadu',\n",
    "    'Madurai': 'Tamil Nadu',\n",
    "    'Bharuch': 'Gujarat',\n",
    "    'Vellore': 'Tamil Nadu',\n",
    "    'Ranipet': 'Tamil Nadu',\n",
    "    'Dharmapuri': 'Tamil Nadu',\n",
    "    'Delhi': 'Delhi',\n",
    "    'Ballia': 'Uttar Pradesh',\n",
    "    'Barnala': 'Punjab',\n",
    "    'Gurdaspur': 'Punjab',\n",
    "    'Chandrapur': 'Maharashtra',\n",
    "    'Thiruvannamalai': 'Tamil Nadu',\n",
    "    'Dindigul': 'Tamil Nadu',\n",
    "    'Theni': 'Tamil Nadu',\n",
    "    'Cuddalore': 'Tamil Nadu',\n",
    "    'Sirsa': 'Haryana',\n",
    "    'Hoshiarpur': 'Punjab',\n",
    "    'Dehradoon': 'Uttarakhand',\n",
    "    'Sivaganga': 'Tamil Nadu',\n",
    "    'Gariyaband': 'Chhattisgarh',\n",
    "    'Dhar': 'Madhya Pradesh',\n",
    "    'Moga': 'Punjab',\n",
    "    'Thirupur': 'Tamil Nadu',\n",
    "    'North and Middle Andaman ': 'Andaman and Nicobar Islands',\n",
    "    'Ayodhya': 'Uttar Pradesh',\n",
    "    'Faridkot': 'Punjab',\n",
    "    'Maharajganj': 'Uttar Pradesh',\n",
    "    'Erode': 'Tamil Nadu',\n",
    "    'Nanital': 'Uttarakhand',\n",
    "    'Hamirpur': 'Himachal Pradesh',\n",
    "    'Palwal': 'Haryana',\n",
    "    'Krishnagiri': 'Tamil Nadu',\n",
    "    'Amethi': 'Uttar Pradesh',\n",
    "    'Madhubani': 'Bihar',\n",
    "    'Chengalpattu': 'Tamil Nadu',\n",
    "    'Prayagraj': 'Uttar Pradesh',\n",
    "    'Villupuram': 'Tamil Nadu',\n",
    "    'Kallakuruchi': 'Tamil Nadu',\n",
    "    'Kancheepuram': 'Tamil Nadu',\n",
    "    'Karur': 'Tamil Nadu',\n",
    "    'Idukki': 'Kerala',\n",
    "    'Anand': 'Gujarat',\n",
    "    'Kolhapur': 'Maharashtra',\n",
    "    'Malappuram': 'Kerala',\n",
    "    'Koraput': 'Odisha',\n",
    "    'Garhwal (Pauri)': 'Uttarakhand',\n",
    "    'Namakkal': 'Tamil Nadu',\n",
    "    'Thanjavur': 'Tamil Nadu',\n",
    "    'Raebarelli': 'Uttar Pradesh',\n",
    "    'Thiruchirappalli': 'Tamil Nadu',\n",
    "    'Mohali': 'Punjab',\n",
    "    'Gwalior': 'Madhya Pradesh',\n",
    "    'Mandi': 'Himachal Pradesh',\n",
    "    'Bhatinda': 'Punjab',\n",
    "    'Thirunelveli': 'Tamil Nadu',\n",
    "    'Ropar (Rupnagar)': 'Punjab',\n",
    "    'Nagapattinam': 'Tamil Nadu',\n",
    "    'Dhamtari': 'Chhattisgarh',\n",
    "    'Nagpur': 'Maharashtra',\n",
    "    'Bijnor': 'Uttar Pradesh',\n",
    "    'Narayanpur': 'Chhattisgarh',\n",
    "    'Jammu': 'Jammu and Kashmir',\n",
    "    'Thirupathur': 'Tamil Nadu',\n",
    "    'Nawanshahr': 'Punjab',\n",
    "    'Pathankot': 'Punjab',\n",
    "    'Perambalur': 'Tamil Nadu',\n",
    "    'Pudukkottai': 'Tamil Nadu',\n",
    "    'Pune': 'Maharashtra',\n",
    "    'Ahmednagar': 'Maharashtra',\n",
    "    'Tenkasi': 'Tamil Nadu',\n",
    "    'Muzaffarnagar': 'Uttar Pradesh',\n",
    "    'Sheopur': 'Madhya Pradesh',\n",
    "    'Ramanathapuram': 'Tamil Nadu',\n",
    "    'Thiruvarur': 'Tamil Nadu',\n",
    "    'Tuticorin': 'Tamil Nadu',\n",
    "    'Fatehabad': 'Haryana',\n",
    "    'The Nilgiris': 'Tamil Nadu',\n",
    "    'Unnao': 'Uttar Pradesh',\n",
    "    'Nagercoil (Kanniyakumari)': 'Tamil Nadu',\n",
    "    'Vadodara (Baroda)': 'Gujarat',\n",
    "    'Kanpur': 'Uttar Pradesh',\n",
    "    'Kondagaon': 'Chhattisgarh',\n",
    "    'Sukma': 'Chhattisgarh',\n",
    "    'Balrampur': 'Uttar Pradesh',\n",
    "    'Madikeri (Kodagu)': 'Karnataka',\n",
    "    \"Solan\":\"Himachal Pradesh\",\n",
    "    \"Banaskanth\":\"Gujrat\",\n",
    "    \"Pulwama\":'Jammu and Kashmir',\n",
    "    \"Nagercoil (Kannyiakumari)\":\"Tamil Nadu\",\n",
    "    \"Srinagar\":'Jammu and Kashmir',\n",
    "    \"Vadodara(Baroda)\":\"Gujrat\",\n",
    "    \"Kangra\":\"Himachal Pradesh\",\n",
    "    \"Baramulla\":'Jammu and Kashmir',\n",
    "    \"Madikeri(Kodagu)\":'Karnataka',\n",
    "    \"Kullu\":\"Himachal Pradesh\",\n",
    "    \"Jalandhar\":\"Punjab\",\n",
    "    \"Anantnag\":\"Jammu and Kashmir\"\n",
    "    \n",
    "}\n",
    "\n",
    "df['State'] = df['District Name'].map(district_to_state)"
   ]
  },
  {
   "cell_type": "code",
   "execution_count": 48,
   "metadata": {},
   "outputs": [
    {
     "name": "stdout",
     "output_type": "stream",
     "text": [
      "<class 'pandas.core.frame.DataFrame'>\n",
      "RangeIndex: 68420 entries, 0 to 68419\n",
      "Data columns (total 11 columns):\n",
      " #   Column                     Non-Null Count  Dtype         \n",
      "---  ------                     --------------  -----         \n",
      " 0   Sl no.                     68420 non-null  int64         \n",
      " 1   District Name              68420 non-null  object        \n",
      " 2   Market Name                68420 non-null  object        \n",
      " 3   Commodity                  68420 non-null  object        \n",
      " 4   Variety                    68420 non-null  object        \n",
      " 5   Grade                      68420 non-null  object        \n",
      " 6   Min Price (Rs./Quintal)    68420 non-null  float64       \n",
      " 7   Max Price (Rs./Quintal)    68420 non-null  float64       \n",
      " 8   Modal Price (Rs./Quintal)  68420 non-null  float64       \n",
      " 9   Price Date                 68420 non-null  datetime64[ns]\n",
      " 10  State                      68420 non-null  object        \n",
      "dtypes: datetime64[ns](1), float64(3), int64(1), object(6)\n",
      "memory usage: 5.7+ MB\n"
     ]
    }
   ],
   "source": [
    "df.info()"
   ]
  },
  {
   "cell_type": "code",
   "execution_count": 49,
   "metadata": {},
   "outputs": [
    {
     "data": {
      "text/plain": [
       "Index(['Sl no.', 'District Name', 'Market Name', 'Commodity', 'Variety',\n",
       "       'Grade', 'Min Price (Rs./Quintal)', 'Max Price (Rs./Quintal)',\n",
       "       'Modal Price (Rs./Quintal)', 'Price Date', 'State'],\n",
       "      dtype='object')"
      ]
     },
     "execution_count": 49,
     "metadata": {},
     "output_type": "execute_result"
    }
   ],
   "source": [
    "df.columns"
   ]
  },
  {
   "cell_type": "code",
   "execution_count": 50,
   "metadata": {},
   "outputs": [
    {
     "data": {
      "text/html": [
       "<div>\n",
       "<style scoped>\n",
       "    .dataframe tbody tr th:only-of-type {\n",
       "        vertical-align: middle;\n",
       "    }\n",
       "\n",
       "    .dataframe tbody tr th {\n",
       "        vertical-align: top;\n",
       "    }\n",
       "\n",
       "    .dataframe thead th {\n",
       "        text-align: right;\n",
       "    }\n",
       "</style>\n",
       "<table border=\"1\" class=\"dataframe\">\n",
       "  <thead>\n",
       "    <tr style=\"text-align: right;\">\n",
       "      <th></th>\n",
       "      <th>Sl no.</th>\n",
       "      <th>District</th>\n",
       "      <th>Market</th>\n",
       "      <th>Commodity</th>\n",
       "      <th>Variety</th>\n",
       "      <th>Grade</th>\n",
       "      <th>Min Price</th>\n",
       "      <th>Max Price</th>\n",
       "      <th>Modal Price</th>\n",
       "      <th>Arrival_Date</th>\n",
       "      <th>State</th>\n",
       "    </tr>\n",
       "  </thead>\n",
       "  <tbody>\n",
       "    <tr>\n",
       "      <th>0</th>\n",
       "      <td>1</td>\n",
       "      <td>Angul</td>\n",
       "      <td>Angul</td>\n",
       "      <td>Almond(Badam)</td>\n",
       "      <td>Other</td>\n",
       "      <td>FAQ</td>\n",
       "      <td>2500.0</td>\n",
       "      <td>3000.0</td>\n",
       "      <td>2800.0</td>\n",
       "      <td>2015-09-28</td>\n",
       "      <td>Odisha</td>\n",
       "    </tr>\n",
       "    <tr>\n",
       "      <th>1</th>\n",
       "      <td>2</td>\n",
       "      <td>Angul</td>\n",
       "      <td>Angul</td>\n",
       "      <td>Almond(Badam)</td>\n",
       "      <td>Other</td>\n",
       "      <td>FAQ</td>\n",
       "      <td>4000.0</td>\n",
       "      <td>5000.0</td>\n",
       "      <td>4500.0</td>\n",
       "      <td>2015-08-02</td>\n",
       "      <td>Odisha</td>\n",
       "    </tr>\n",
       "    <tr>\n",
       "      <th>2</th>\n",
       "      <td>3</td>\n",
       "      <td>Angul</td>\n",
       "      <td>Angul</td>\n",
       "      <td>Almond(Badam)</td>\n",
       "      <td>Other</td>\n",
       "      <td>FAQ</td>\n",
       "      <td>4000.0</td>\n",
       "      <td>5000.0</td>\n",
       "      <td>4500.0</td>\n",
       "      <td>2015-07-12</td>\n",
       "      <td>Odisha</td>\n",
       "    </tr>\n",
       "    <tr>\n",
       "      <th>3</th>\n",
       "      <td>4</td>\n",
       "      <td>Angul</td>\n",
       "      <td>Angul</td>\n",
       "      <td>Almond(Badam)</td>\n",
       "      <td>Other</td>\n",
       "      <td>FAQ</td>\n",
       "      <td>4000.0</td>\n",
       "      <td>5000.0</td>\n",
       "      <td>4500.0</td>\n",
       "      <td>2015-08-16</td>\n",
       "      <td>Odisha</td>\n",
       "    </tr>\n",
       "    <tr>\n",
       "      <th>4</th>\n",
       "      <td>5</td>\n",
       "      <td>Angul</td>\n",
       "      <td>Angul</td>\n",
       "      <td>Almond(Badam)</td>\n",
       "      <td>Other</td>\n",
       "      <td>FAQ</td>\n",
       "      <td>4000.0</td>\n",
       "      <td>5000.0</td>\n",
       "      <td>4500.0</td>\n",
       "      <td>2015-07-19</td>\n",
       "      <td>Odisha</td>\n",
       "    </tr>\n",
       "    <tr>\n",
       "      <th>...</th>\n",
       "      <td>...</td>\n",
       "      <td>...</td>\n",
       "      <td>...</td>\n",
       "      <td>...</td>\n",
       "      <td>...</td>\n",
       "      <td>...</td>\n",
       "      <td>...</td>\n",
       "      <td>...</td>\n",
       "      <td>...</td>\n",
       "      <td>...</td>\n",
       "      <td>...</td>\n",
       "    </tr>\n",
       "    <tr>\n",
       "      <th>68415</th>\n",
       "      <td>2034</td>\n",
       "      <td>Solan</td>\n",
       "      <td>Solan(Rajgarh)</td>\n",
       "      <td>Apricot(Jardalu/Khumani)</td>\n",
       "      <td>Other</td>\n",
       "      <td>Medium</td>\n",
       "      <td>2500.0</td>\n",
       "      <td>3000.0</td>\n",
       "      <td>2800.0</td>\n",
       "      <td>2019-05-23</td>\n",
       "      <td>Himachal Pradesh</td>\n",
       "    </tr>\n",
       "    <tr>\n",
       "      <th>68416</th>\n",
       "      <td>2035</td>\n",
       "      <td>Solan</td>\n",
       "      <td>Solan(Rajgarh)</td>\n",
       "      <td>Apricot(Jardalu/Khumani)</td>\n",
       "      <td>Other</td>\n",
       "      <td>Medium</td>\n",
       "      <td>2500.0</td>\n",
       "      <td>3000.0</td>\n",
       "      <td>2800.0</td>\n",
       "      <td>2019-05-24</td>\n",
       "      <td>Himachal Pradesh</td>\n",
       "    </tr>\n",
       "    <tr>\n",
       "      <th>68417</th>\n",
       "      <td>2036</td>\n",
       "      <td>Solan</td>\n",
       "      <td>Solan(Rajgarh)</td>\n",
       "      <td>Apricot(Jardalu/Khumani)</td>\n",
       "      <td>Other</td>\n",
       "      <td>Medium</td>\n",
       "      <td>2500.0</td>\n",
       "      <td>7000.0</td>\n",
       "      <td>6000.0</td>\n",
       "      <td>2019-05-15</td>\n",
       "      <td>Himachal Pradesh</td>\n",
       "    </tr>\n",
       "    <tr>\n",
       "      <th>68418</th>\n",
       "      <td>2037</td>\n",
       "      <td>Solan</td>\n",
       "      <td>Solan(Rajgarh)</td>\n",
       "      <td>Apricot(Jardalu/Khumani)</td>\n",
       "      <td>Other</td>\n",
       "      <td>Medium</td>\n",
       "      <td>2800.0</td>\n",
       "      <td>3200.0</td>\n",
       "      <td>3000.0</td>\n",
       "      <td>2019-05-27</td>\n",
       "      <td>Himachal Pradesh</td>\n",
       "    </tr>\n",
       "    <tr>\n",
       "      <th>68419</th>\n",
       "      <td>2038</td>\n",
       "      <td>Dehradoon</td>\n",
       "      <td>Vikasnagar</td>\n",
       "      <td>Apricot(Jardalu/Khumani)</td>\n",
       "      <td>Other</td>\n",
       "      <td>Medium</td>\n",
       "      <td>2500.0</td>\n",
       "      <td>2500.0</td>\n",
       "      <td>2500.0</td>\n",
       "      <td>2024-01-21</td>\n",
       "      <td>Uttarakhand</td>\n",
       "    </tr>\n",
       "  </tbody>\n",
       "</table>\n",
       "<p>68420 rows × 11 columns</p>\n",
       "</div>"
      ],
      "text/plain": [
       "       Sl no.   District          Market                 Commodity Variety  \\\n",
       "0           1      Angul           Angul             Almond(Badam)   Other   \n",
       "1           2      Angul           Angul             Almond(Badam)   Other   \n",
       "2           3      Angul           Angul             Almond(Badam)   Other   \n",
       "3           4      Angul           Angul             Almond(Badam)   Other   \n",
       "4           5      Angul           Angul             Almond(Badam)   Other   \n",
       "...       ...        ...             ...                       ...     ...   \n",
       "68415    2034      Solan  Solan(Rajgarh)  Apricot(Jardalu/Khumani)   Other   \n",
       "68416    2035      Solan  Solan(Rajgarh)  Apricot(Jardalu/Khumani)   Other   \n",
       "68417    2036      Solan  Solan(Rajgarh)  Apricot(Jardalu/Khumani)   Other   \n",
       "68418    2037      Solan  Solan(Rajgarh)  Apricot(Jardalu/Khumani)   Other   \n",
       "68419    2038  Dehradoon      Vikasnagar  Apricot(Jardalu/Khumani)   Other   \n",
       "\n",
       "        Grade  Min Price  Max Price  Modal Price Arrival_Date  \\\n",
       "0         FAQ     2500.0     3000.0       2800.0   2015-09-28   \n",
       "1         FAQ     4000.0     5000.0       4500.0   2015-08-02   \n",
       "2         FAQ     4000.0     5000.0       4500.0   2015-07-12   \n",
       "3         FAQ     4000.0     5000.0       4500.0   2015-08-16   \n",
       "4         FAQ     4000.0     5000.0       4500.0   2015-07-19   \n",
       "...       ...        ...        ...          ...          ...   \n",
       "68415  Medium     2500.0     3000.0       2800.0   2019-05-23   \n",
       "68416  Medium     2500.0     3000.0       2800.0   2019-05-24   \n",
       "68417  Medium     2500.0     7000.0       6000.0   2019-05-15   \n",
       "68418  Medium     2800.0     3200.0       3000.0   2019-05-27   \n",
       "68419  Medium     2500.0     2500.0       2500.0   2024-01-21   \n",
       "\n",
       "                  State  \n",
       "0                Odisha  \n",
       "1                Odisha  \n",
       "2                Odisha  \n",
       "3                Odisha  \n",
       "4                Odisha  \n",
       "...                 ...  \n",
       "68415  Himachal Pradesh  \n",
       "68416  Himachal Pradesh  \n",
       "68417  Himachal Pradesh  \n",
       "68418  Himachal Pradesh  \n",
       "68419       Uttarakhand  \n",
       "\n",
       "[68420 rows x 11 columns]"
      ]
     },
     "execution_count": 50,
     "metadata": {},
     "output_type": "execute_result"
    }
   ],
   "source": [
    "df.rename(columns={\n",
    "    # 'Sl no.', \n",
    "    'District Name':\"District\", \n",
    "    'Market Name':\"Market\",\n",
    "    # 'Commodity', \n",
    "    # 'Variety',\n",
    "    # 'Grade',\n",
    "    'Min Price (Rs./Quintal)':\"Min Price\", \n",
    "    'Max Price (Rs./Quintal)':\"Max Price\",\n",
    "    'Modal Price (Rs./Quintal)':\"Modal Price\", \n",
    "    'Price Date':\"Arrival_Date\", \n",
    "    # 'State'\n",
    "},inplace=True)\n",
    "df"
   ]
  },
  {
   "cell_type": "code",
   "execution_count": 51,
   "metadata": {},
   "outputs": [
    {
     "data": {
      "text/html": [
       "<div>\n",
       "<style scoped>\n",
       "    .dataframe tbody tr th:only-of-type {\n",
       "        vertical-align: middle;\n",
       "    }\n",
       "\n",
       "    .dataframe tbody tr th {\n",
       "        vertical-align: top;\n",
       "    }\n",
       "\n",
       "    .dataframe thead th {\n",
       "        text-align: right;\n",
       "    }\n",
       "</style>\n",
       "<table border=\"1\" class=\"dataframe\">\n",
       "  <thead>\n",
       "    <tr style=\"text-align: right;\">\n",
       "      <th></th>\n",
       "      <th>District</th>\n",
       "      <th>Market</th>\n",
       "      <th>Commodity</th>\n",
       "      <th>Min Price</th>\n",
       "      <th>Max Price</th>\n",
       "      <th>Modal Price</th>\n",
       "      <th>Arrival_Date</th>\n",
       "      <th>State</th>\n",
       "    </tr>\n",
       "  </thead>\n",
       "  <tbody>\n",
       "    <tr>\n",
       "      <th>0</th>\n",
       "      <td>Angul</td>\n",
       "      <td>Angul</td>\n",
       "      <td>Almond(Badam)</td>\n",
       "      <td>2500.0</td>\n",
       "      <td>3000.0</td>\n",
       "      <td>2800.0</td>\n",
       "      <td>2015-09-28</td>\n",
       "      <td>Odisha</td>\n",
       "    </tr>\n",
       "    <tr>\n",
       "      <th>1</th>\n",
       "      <td>Angul</td>\n",
       "      <td>Angul</td>\n",
       "      <td>Almond(Badam)</td>\n",
       "      <td>4000.0</td>\n",
       "      <td>5000.0</td>\n",
       "      <td>4500.0</td>\n",
       "      <td>2015-08-02</td>\n",
       "      <td>Odisha</td>\n",
       "    </tr>\n",
       "    <tr>\n",
       "      <th>2</th>\n",
       "      <td>Angul</td>\n",
       "      <td>Angul</td>\n",
       "      <td>Almond(Badam)</td>\n",
       "      <td>4000.0</td>\n",
       "      <td>5000.0</td>\n",
       "      <td>4500.0</td>\n",
       "      <td>2015-07-12</td>\n",
       "      <td>Odisha</td>\n",
       "    </tr>\n",
       "    <tr>\n",
       "      <th>3</th>\n",
       "      <td>Angul</td>\n",
       "      <td>Angul</td>\n",
       "      <td>Almond(Badam)</td>\n",
       "      <td>4000.0</td>\n",
       "      <td>5000.0</td>\n",
       "      <td>4500.0</td>\n",
       "      <td>2015-08-16</td>\n",
       "      <td>Odisha</td>\n",
       "    </tr>\n",
       "    <tr>\n",
       "      <th>4</th>\n",
       "      <td>Angul</td>\n",
       "      <td>Angul</td>\n",
       "      <td>Almond(Badam)</td>\n",
       "      <td>4000.0</td>\n",
       "      <td>5000.0</td>\n",
       "      <td>4500.0</td>\n",
       "      <td>2015-07-19</td>\n",
       "      <td>Odisha</td>\n",
       "    </tr>\n",
       "    <tr>\n",
       "      <th>...</th>\n",
       "      <td>...</td>\n",
       "      <td>...</td>\n",
       "      <td>...</td>\n",
       "      <td>...</td>\n",
       "      <td>...</td>\n",
       "      <td>...</td>\n",
       "      <td>...</td>\n",
       "      <td>...</td>\n",
       "    </tr>\n",
       "    <tr>\n",
       "      <th>68415</th>\n",
       "      <td>Solan</td>\n",
       "      <td>Solan(Rajgarh)</td>\n",
       "      <td>Apricot(Jardalu/Khumani)</td>\n",
       "      <td>2500.0</td>\n",
       "      <td>3000.0</td>\n",
       "      <td>2800.0</td>\n",
       "      <td>2019-05-23</td>\n",
       "      <td>Himachal Pradesh</td>\n",
       "    </tr>\n",
       "    <tr>\n",
       "      <th>68416</th>\n",
       "      <td>Solan</td>\n",
       "      <td>Solan(Rajgarh)</td>\n",
       "      <td>Apricot(Jardalu/Khumani)</td>\n",
       "      <td>2500.0</td>\n",
       "      <td>3000.0</td>\n",
       "      <td>2800.0</td>\n",
       "      <td>2019-05-24</td>\n",
       "      <td>Himachal Pradesh</td>\n",
       "    </tr>\n",
       "    <tr>\n",
       "      <th>68417</th>\n",
       "      <td>Solan</td>\n",
       "      <td>Solan(Rajgarh)</td>\n",
       "      <td>Apricot(Jardalu/Khumani)</td>\n",
       "      <td>2500.0</td>\n",
       "      <td>7000.0</td>\n",
       "      <td>6000.0</td>\n",
       "      <td>2019-05-15</td>\n",
       "      <td>Himachal Pradesh</td>\n",
       "    </tr>\n",
       "    <tr>\n",
       "      <th>68418</th>\n",
       "      <td>Solan</td>\n",
       "      <td>Solan(Rajgarh)</td>\n",
       "      <td>Apricot(Jardalu/Khumani)</td>\n",
       "      <td>2800.0</td>\n",
       "      <td>3200.0</td>\n",
       "      <td>3000.0</td>\n",
       "      <td>2019-05-27</td>\n",
       "      <td>Himachal Pradesh</td>\n",
       "    </tr>\n",
       "    <tr>\n",
       "      <th>68419</th>\n",
       "      <td>Dehradoon</td>\n",
       "      <td>Vikasnagar</td>\n",
       "      <td>Apricot(Jardalu/Khumani)</td>\n",
       "      <td>2500.0</td>\n",
       "      <td>2500.0</td>\n",
       "      <td>2500.0</td>\n",
       "      <td>2024-01-21</td>\n",
       "      <td>Uttarakhand</td>\n",
       "    </tr>\n",
       "  </tbody>\n",
       "</table>\n",
       "<p>68420 rows × 8 columns</p>\n",
       "</div>"
      ],
      "text/plain": [
       "        District          Market                 Commodity  Min Price  \\\n",
       "0          Angul           Angul             Almond(Badam)     2500.0   \n",
       "1          Angul           Angul             Almond(Badam)     4000.0   \n",
       "2          Angul           Angul             Almond(Badam)     4000.0   \n",
       "3          Angul           Angul             Almond(Badam)     4000.0   \n",
       "4          Angul           Angul             Almond(Badam)     4000.0   \n",
       "...          ...             ...                       ...        ...   \n",
       "68415      Solan  Solan(Rajgarh)  Apricot(Jardalu/Khumani)     2500.0   \n",
       "68416      Solan  Solan(Rajgarh)  Apricot(Jardalu/Khumani)     2500.0   \n",
       "68417      Solan  Solan(Rajgarh)  Apricot(Jardalu/Khumani)     2500.0   \n",
       "68418      Solan  Solan(Rajgarh)  Apricot(Jardalu/Khumani)     2800.0   \n",
       "68419  Dehradoon      Vikasnagar  Apricot(Jardalu/Khumani)     2500.0   \n",
       "\n",
       "       Max Price  Modal Price Arrival_Date             State  \n",
       "0         3000.0       2800.0   2015-09-28            Odisha  \n",
       "1         5000.0       4500.0   2015-08-02            Odisha  \n",
       "2         5000.0       4500.0   2015-07-12            Odisha  \n",
       "3         5000.0       4500.0   2015-08-16            Odisha  \n",
       "4         5000.0       4500.0   2015-07-19            Odisha  \n",
       "...          ...          ...          ...               ...  \n",
       "68415     3000.0       2800.0   2019-05-23  Himachal Pradesh  \n",
       "68416     3000.0       2800.0   2019-05-24  Himachal Pradesh  \n",
       "68417     7000.0       6000.0   2019-05-15  Himachal Pradesh  \n",
       "68418     3200.0       3000.0   2019-05-27  Himachal Pradesh  \n",
       "68419     2500.0       2500.0   2024-01-21       Uttarakhand  \n",
       "\n",
       "[68420 rows x 8 columns]"
      ]
     },
     "execution_count": 51,
     "metadata": {},
     "output_type": "execute_result"
    }
   ],
   "source": [
    "# df[\"Sl no.\"].drop(inplace=True)\n",
    "# df[\"Variety\"].drop(inplace=True)\t\n",
    "df.drop(columns=[\"Sl no.\",\"Variety\",\"Grade\"],inplace=True)\n",
    "df"
   ]
  },
  {
   "cell_type": "code",
   "execution_count": 52,
   "metadata": {},
   "outputs": [
    {
     "data": {
      "text/html": [
       "<div>\n",
       "<style scoped>\n",
       "    .dataframe tbody tr th:only-of-type {\n",
       "        vertical-align: middle;\n",
       "    }\n",
       "\n",
       "    .dataframe tbody tr th {\n",
       "        vertical-align: top;\n",
       "    }\n",
       "\n",
       "    .dataframe thead th {\n",
       "        text-align: right;\n",
       "    }\n",
       "</style>\n",
       "<table border=\"1\" class=\"dataframe\">\n",
       "  <thead>\n",
       "    <tr style=\"text-align: right;\">\n",
       "      <th></th>\n",
       "      <th>Commodity</th>\n",
       "      <th>State</th>\n",
       "      <th>District</th>\n",
       "      <th>Market</th>\n",
       "      <th>Arrival_Date</th>\n",
       "      <th>Min Price</th>\n",
       "      <th>Max Price</th>\n",
       "      <th>Modal Price</th>\n",
       "    </tr>\n",
       "  </thead>\n",
       "  <tbody>\n",
       "    <tr>\n",
       "      <th>0</th>\n",
       "      <td>Almond(Badam)</td>\n",
       "      <td>Odisha</td>\n",
       "      <td>Angul</td>\n",
       "      <td>Angul</td>\n",
       "      <td>2015-09-28</td>\n",
       "      <td>2500.0</td>\n",
       "      <td>3000.0</td>\n",
       "      <td>2800.0</td>\n",
       "    </tr>\n",
       "    <tr>\n",
       "      <th>1</th>\n",
       "      <td>Almond(Badam)</td>\n",
       "      <td>Odisha</td>\n",
       "      <td>Angul</td>\n",
       "      <td>Angul</td>\n",
       "      <td>2015-08-02</td>\n",
       "      <td>4000.0</td>\n",
       "      <td>5000.0</td>\n",
       "      <td>4500.0</td>\n",
       "    </tr>\n",
       "    <tr>\n",
       "      <th>2</th>\n",
       "      <td>Almond(Badam)</td>\n",
       "      <td>Odisha</td>\n",
       "      <td>Angul</td>\n",
       "      <td>Angul</td>\n",
       "      <td>2015-07-12</td>\n",
       "      <td>4000.0</td>\n",
       "      <td>5000.0</td>\n",
       "      <td>4500.0</td>\n",
       "    </tr>\n",
       "    <tr>\n",
       "      <th>3</th>\n",
       "      <td>Almond(Badam)</td>\n",
       "      <td>Odisha</td>\n",
       "      <td>Angul</td>\n",
       "      <td>Angul</td>\n",
       "      <td>2015-08-16</td>\n",
       "      <td>4000.0</td>\n",
       "      <td>5000.0</td>\n",
       "      <td>4500.0</td>\n",
       "    </tr>\n",
       "    <tr>\n",
       "      <th>4</th>\n",
       "      <td>Almond(Badam)</td>\n",
       "      <td>Odisha</td>\n",
       "      <td>Angul</td>\n",
       "      <td>Angul</td>\n",
       "      <td>2015-07-19</td>\n",
       "      <td>4000.0</td>\n",
       "      <td>5000.0</td>\n",
       "      <td>4500.0</td>\n",
       "    </tr>\n",
       "    <tr>\n",
       "      <th>...</th>\n",
       "      <td>...</td>\n",
       "      <td>...</td>\n",
       "      <td>...</td>\n",
       "      <td>...</td>\n",
       "      <td>...</td>\n",
       "      <td>...</td>\n",
       "      <td>...</td>\n",
       "      <td>...</td>\n",
       "    </tr>\n",
       "    <tr>\n",
       "      <th>68415</th>\n",
       "      <td>Apricot(Jardalu/Khumani)</td>\n",
       "      <td>Himachal Pradesh</td>\n",
       "      <td>Solan</td>\n",
       "      <td>Solan(Rajgarh)</td>\n",
       "      <td>2019-05-23</td>\n",
       "      <td>2500.0</td>\n",
       "      <td>3000.0</td>\n",
       "      <td>2800.0</td>\n",
       "    </tr>\n",
       "    <tr>\n",
       "      <th>68416</th>\n",
       "      <td>Apricot(Jardalu/Khumani)</td>\n",
       "      <td>Himachal Pradesh</td>\n",
       "      <td>Solan</td>\n",
       "      <td>Solan(Rajgarh)</td>\n",
       "      <td>2019-05-24</td>\n",
       "      <td>2500.0</td>\n",
       "      <td>3000.0</td>\n",
       "      <td>2800.0</td>\n",
       "    </tr>\n",
       "    <tr>\n",
       "      <th>68417</th>\n",
       "      <td>Apricot(Jardalu/Khumani)</td>\n",
       "      <td>Himachal Pradesh</td>\n",
       "      <td>Solan</td>\n",
       "      <td>Solan(Rajgarh)</td>\n",
       "      <td>2019-05-15</td>\n",
       "      <td>2500.0</td>\n",
       "      <td>7000.0</td>\n",
       "      <td>6000.0</td>\n",
       "    </tr>\n",
       "    <tr>\n",
       "      <th>68418</th>\n",
       "      <td>Apricot(Jardalu/Khumani)</td>\n",
       "      <td>Himachal Pradesh</td>\n",
       "      <td>Solan</td>\n",
       "      <td>Solan(Rajgarh)</td>\n",
       "      <td>2019-05-27</td>\n",
       "      <td>2800.0</td>\n",
       "      <td>3200.0</td>\n",
       "      <td>3000.0</td>\n",
       "    </tr>\n",
       "    <tr>\n",
       "      <th>68419</th>\n",
       "      <td>Apricot(Jardalu/Khumani)</td>\n",
       "      <td>Uttarakhand</td>\n",
       "      <td>Dehradoon</td>\n",
       "      <td>Vikasnagar</td>\n",
       "      <td>2024-01-21</td>\n",
       "      <td>2500.0</td>\n",
       "      <td>2500.0</td>\n",
       "      <td>2500.0</td>\n",
       "    </tr>\n",
       "  </tbody>\n",
       "</table>\n",
       "<p>68420 rows × 8 columns</p>\n",
       "</div>"
      ],
      "text/plain": [
       "                      Commodity             State   District          Market  \\\n",
       "0                 Almond(Badam)            Odisha      Angul           Angul   \n",
       "1                 Almond(Badam)            Odisha      Angul           Angul   \n",
       "2                 Almond(Badam)            Odisha      Angul           Angul   \n",
       "3                 Almond(Badam)            Odisha      Angul           Angul   \n",
       "4                 Almond(Badam)            Odisha      Angul           Angul   \n",
       "...                         ...               ...        ...             ...   \n",
       "68415  Apricot(Jardalu/Khumani)  Himachal Pradesh      Solan  Solan(Rajgarh)   \n",
       "68416  Apricot(Jardalu/Khumani)  Himachal Pradesh      Solan  Solan(Rajgarh)   \n",
       "68417  Apricot(Jardalu/Khumani)  Himachal Pradesh      Solan  Solan(Rajgarh)   \n",
       "68418  Apricot(Jardalu/Khumani)  Himachal Pradesh      Solan  Solan(Rajgarh)   \n",
       "68419  Apricot(Jardalu/Khumani)       Uttarakhand  Dehradoon      Vikasnagar   \n",
       "\n",
       "      Arrival_Date  Min Price  Max Price  Modal Price  \n",
       "0       2015-09-28     2500.0     3000.0       2800.0  \n",
       "1       2015-08-02     4000.0     5000.0       4500.0  \n",
       "2       2015-07-12     4000.0     5000.0       4500.0  \n",
       "3       2015-08-16     4000.0     5000.0       4500.0  \n",
       "4       2015-07-19     4000.0     5000.0       4500.0  \n",
       "...            ...        ...        ...          ...  \n",
       "68415   2019-05-23     2500.0     3000.0       2800.0  \n",
       "68416   2019-05-24     2500.0     3000.0       2800.0  \n",
       "68417   2019-05-15     2500.0     7000.0       6000.0  \n",
       "68418   2019-05-27     2800.0     3200.0       3000.0  \n",
       "68419   2024-01-21     2500.0     2500.0       2500.0  \n",
       "\n",
       "[68420 rows x 8 columns]"
      ]
     },
     "execution_count": 52,
     "metadata": {},
     "output_type": "execute_result"
    }
   ],
   "source": [
    "df=df.iloc[:,[2,7,0,1,6,3,4,5]]\n",
    "df"
   ]
  },
  {
   "cell_type": "code",
   "execution_count": 53,
   "metadata": {},
   "outputs": [
    {
     "name": "stderr",
     "output_type": "stream",
     "text": [
      "C:\\Users\\ArnavBhatia\\AppData\\Local\\Temp\\ipykernel_4952\\1335169479.py:41: SettingWithCopyWarning: \n",
      "A value is trying to be set on a copy of a slice from a DataFrame.\n",
      "Try using .loc[row_indexer,col_indexer] = value instead\n",
      "\n",
      "See the caveats in the documentation: https://pandas.pydata.org/pandas-docs/stable/user_guide/indexing.html#returning-a-view-versus-a-copy\n",
      "  df[\"Month\"]=Month\n",
      "C:\\Users\\ArnavBhatia\\AppData\\Local\\Temp\\ipykernel_4952\\1335169479.py:42: SettingWithCopyWarning: \n",
      "A value is trying to be set on a copy of a slice from a DataFrame.\n",
      "Try using .loc[row_indexer,col_indexer] = value instead\n",
      "\n",
      "See the caveats in the documentation: https://pandas.pydata.org/pandas-docs/stable/user_guide/indexing.html#returning-a-view-versus-a-copy\n",
      "  df[\"Year\"]=Year\n",
      "C:\\Users\\ArnavBhatia\\AppData\\Local\\Temp\\ipykernel_4952\\1335169479.py:43: SettingWithCopyWarning: \n",
      "A value is trying to be set on a copy of a slice from a DataFrame.\n",
      "Try using .loc[row_indexer,col_indexer] = value instead\n",
      "\n",
      "See the caveats in the documentation: https://pandas.pydata.org/pandas-docs/stable/user_guide/indexing.html#returning-a-view-versus-a-copy\n",
      "  df[\"Season\"]=season\n",
      "C:\\Users\\ArnavBhatia\\AppData\\Local\\Temp\\ipykernel_4952\\1335169479.py:50: SettingWithCopyWarning: \n",
      "A value is trying to be set on a copy of a slice from a DataFrame.\n",
      "Try using .loc[row_indexer,col_indexer] = value instead\n",
      "\n",
      "See the caveats in the documentation: https://pandas.pydata.org/pandas-docs/stable/user_guide/indexing.html#returning-a-view-versus-a-copy\n",
      "  df[\"Day\"]=day_of_week\n"
     ]
    },
    {
     "data": {
      "text/html": [
       "<div>\n",
       "<style scoped>\n",
       "    .dataframe tbody tr th:only-of-type {\n",
       "        vertical-align: middle;\n",
       "    }\n",
       "\n",
       "    .dataframe tbody tr th {\n",
       "        vertical-align: top;\n",
       "    }\n",
       "\n",
       "    .dataframe thead th {\n",
       "        text-align: right;\n",
       "    }\n",
       "</style>\n",
       "<table border=\"1\" class=\"dataframe\">\n",
       "  <thead>\n",
       "    <tr style=\"text-align: right;\">\n",
       "      <th></th>\n",
       "      <th>Commodity</th>\n",
       "      <th>State</th>\n",
       "      <th>District</th>\n",
       "      <th>Market</th>\n",
       "      <th>Arrival_Date</th>\n",
       "      <th>Min Price</th>\n",
       "      <th>Max Price</th>\n",
       "      <th>Modal Price</th>\n",
       "      <th>Month</th>\n",
       "      <th>Year</th>\n",
       "      <th>Season</th>\n",
       "      <th>Day</th>\n",
       "    </tr>\n",
       "  </thead>\n",
       "  <tbody>\n",
       "    <tr>\n",
       "      <th>0</th>\n",
       "      <td>Almond(Badam)</td>\n",
       "      <td>Odisha</td>\n",
       "      <td>Angul</td>\n",
       "      <td>Angul</td>\n",
       "      <td>2015-09-28</td>\n",
       "      <td>2500.0</td>\n",
       "      <td>3000.0</td>\n",
       "      <td>2800.0</td>\n",
       "      <td>September</td>\n",
       "      <td>2015</td>\n",
       "      <td>Autumn</td>\n",
       "      <td>0</td>\n",
       "    </tr>\n",
       "    <tr>\n",
       "      <th>1</th>\n",
       "      <td>Almond(Badam)</td>\n",
       "      <td>Odisha</td>\n",
       "      <td>Angul</td>\n",
       "      <td>Angul</td>\n",
       "      <td>2015-08-02</td>\n",
       "      <td>4000.0</td>\n",
       "      <td>5000.0</td>\n",
       "      <td>4500.0</td>\n",
       "      <td>August</td>\n",
       "      <td>2015</td>\n",
       "      <td>Monsoon</td>\n",
       "      <td>6</td>\n",
       "    </tr>\n",
       "    <tr>\n",
       "      <th>2</th>\n",
       "      <td>Almond(Badam)</td>\n",
       "      <td>Odisha</td>\n",
       "      <td>Angul</td>\n",
       "      <td>Angul</td>\n",
       "      <td>2015-07-12</td>\n",
       "      <td>4000.0</td>\n",
       "      <td>5000.0</td>\n",
       "      <td>4500.0</td>\n",
       "      <td>July</td>\n",
       "      <td>2015</td>\n",
       "      <td>Monsoon</td>\n",
       "      <td>6</td>\n",
       "    </tr>\n",
       "    <tr>\n",
       "      <th>3</th>\n",
       "      <td>Almond(Badam)</td>\n",
       "      <td>Odisha</td>\n",
       "      <td>Angul</td>\n",
       "      <td>Angul</td>\n",
       "      <td>2015-08-16</td>\n",
       "      <td>4000.0</td>\n",
       "      <td>5000.0</td>\n",
       "      <td>4500.0</td>\n",
       "      <td>August</td>\n",
       "      <td>2015</td>\n",
       "      <td>Monsoon</td>\n",
       "      <td>6</td>\n",
       "    </tr>\n",
       "    <tr>\n",
       "      <th>4</th>\n",
       "      <td>Almond(Badam)</td>\n",
       "      <td>Odisha</td>\n",
       "      <td>Angul</td>\n",
       "      <td>Angul</td>\n",
       "      <td>2015-07-19</td>\n",
       "      <td>4000.0</td>\n",
       "      <td>5000.0</td>\n",
       "      <td>4500.0</td>\n",
       "      <td>July</td>\n",
       "      <td>2015</td>\n",
       "      <td>Monsoon</td>\n",
       "      <td>6</td>\n",
       "    </tr>\n",
       "    <tr>\n",
       "      <th>...</th>\n",
       "      <td>...</td>\n",
       "      <td>...</td>\n",
       "      <td>...</td>\n",
       "      <td>...</td>\n",
       "      <td>...</td>\n",
       "      <td>...</td>\n",
       "      <td>...</td>\n",
       "      <td>...</td>\n",
       "      <td>...</td>\n",
       "      <td>...</td>\n",
       "      <td>...</td>\n",
       "      <td>...</td>\n",
       "    </tr>\n",
       "    <tr>\n",
       "      <th>68415</th>\n",
       "      <td>Apricot(Jardalu/Khumani)</td>\n",
       "      <td>Himachal Pradesh</td>\n",
       "      <td>Solan</td>\n",
       "      <td>Solan(Rajgarh)</td>\n",
       "      <td>2019-05-23</td>\n",
       "      <td>2500.0</td>\n",
       "      <td>3000.0</td>\n",
       "      <td>2800.0</td>\n",
       "      <td>May</td>\n",
       "      <td>2019</td>\n",
       "      <td>Summer</td>\n",
       "      <td>3</td>\n",
       "    </tr>\n",
       "    <tr>\n",
       "      <th>68416</th>\n",
       "      <td>Apricot(Jardalu/Khumani)</td>\n",
       "      <td>Himachal Pradesh</td>\n",
       "      <td>Solan</td>\n",
       "      <td>Solan(Rajgarh)</td>\n",
       "      <td>2019-05-24</td>\n",
       "      <td>2500.0</td>\n",
       "      <td>3000.0</td>\n",
       "      <td>2800.0</td>\n",
       "      <td>May</td>\n",
       "      <td>2019</td>\n",
       "      <td>Summer</td>\n",
       "      <td>4</td>\n",
       "    </tr>\n",
       "    <tr>\n",
       "      <th>68417</th>\n",
       "      <td>Apricot(Jardalu/Khumani)</td>\n",
       "      <td>Himachal Pradesh</td>\n",
       "      <td>Solan</td>\n",
       "      <td>Solan(Rajgarh)</td>\n",
       "      <td>2019-05-15</td>\n",
       "      <td>2500.0</td>\n",
       "      <td>7000.0</td>\n",
       "      <td>6000.0</td>\n",
       "      <td>May</td>\n",
       "      <td>2019</td>\n",
       "      <td>Summer</td>\n",
       "      <td>2</td>\n",
       "    </tr>\n",
       "    <tr>\n",
       "      <th>68418</th>\n",
       "      <td>Apricot(Jardalu/Khumani)</td>\n",
       "      <td>Himachal Pradesh</td>\n",
       "      <td>Solan</td>\n",
       "      <td>Solan(Rajgarh)</td>\n",
       "      <td>2019-05-27</td>\n",
       "      <td>2800.0</td>\n",
       "      <td>3200.0</td>\n",
       "      <td>3000.0</td>\n",
       "      <td>May</td>\n",
       "      <td>2019</td>\n",
       "      <td>Summer</td>\n",
       "      <td>0</td>\n",
       "    </tr>\n",
       "    <tr>\n",
       "      <th>68419</th>\n",
       "      <td>Apricot(Jardalu/Khumani)</td>\n",
       "      <td>Uttarakhand</td>\n",
       "      <td>Dehradoon</td>\n",
       "      <td>Vikasnagar</td>\n",
       "      <td>2024-01-21</td>\n",
       "      <td>2500.0</td>\n",
       "      <td>2500.0</td>\n",
       "      <td>2500.0</td>\n",
       "      <td>January</td>\n",
       "      <td>2024</td>\n",
       "      <td>Winter</td>\n",
       "      <td>6</td>\n",
       "    </tr>\n",
       "  </tbody>\n",
       "</table>\n",
       "<p>68420 rows × 12 columns</p>\n",
       "</div>"
      ],
      "text/plain": [
       "                      Commodity             State   District          Market  \\\n",
       "0                 Almond(Badam)            Odisha      Angul           Angul   \n",
       "1                 Almond(Badam)            Odisha      Angul           Angul   \n",
       "2                 Almond(Badam)            Odisha      Angul           Angul   \n",
       "3                 Almond(Badam)            Odisha      Angul           Angul   \n",
       "4                 Almond(Badam)            Odisha      Angul           Angul   \n",
       "...                         ...               ...        ...             ...   \n",
       "68415  Apricot(Jardalu/Khumani)  Himachal Pradesh      Solan  Solan(Rajgarh)   \n",
       "68416  Apricot(Jardalu/Khumani)  Himachal Pradesh      Solan  Solan(Rajgarh)   \n",
       "68417  Apricot(Jardalu/Khumani)  Himachal Pradesh      Solan  Solan(Rajgarh)   \n",
       "68418  Apricot(Jardalu/Khumani)  Himachal Pradesh      Solan  Solan(Rajgarh)   \n",
       "68419  Apricot(Jardalu/Khumani)       Uttarakhand  Dehradoon      Vikasnagar   \n",
       "\n",
       "      Arrival_Date  Min Price  Max Price  Modal Price      Month  Year  \\\n",
       "0       2015-09-28     2500.0     3000.0       2800.0  September  2015   \n",
       "1       2015-08-02     4000.0     5000.0       4500.0     August  2015   \n",
       "2       2015-07-12     4000.0     5000.0       4500.0       July  2015   \n",
       "3       2015-08-16     4000.0     5000.0       4500.0     August  2015   \n",
       "4       2015-07-19     4000.0     5000.0       4500.0       July  2015   \n",
       "...            ...        ...        ...          ...        ...   ...   \n",
       "68415   2019-05-23     2500.0     3000.0       2800.0        May  2019   \n",
       "68416   2019-05-24     2500.0     3000.0       2800.0        May  2019   \n",
       "68417   2019-05-15     2500.0     7000.0       6000.0        May  2019   \n",
       "68418   2019-05-27     2800.0     3200.0       3000.0        May  2019   \n",
       "68419   2024-01-21     2500.0     2500.0       2500.0    January  2024   \n",
       "\n",
       "        Season  Day  \n",
       "0       Autumn    0  \n",
       "1      Monsoon    6  \n",
       "2      Monsoon    6  \n",
       "3      Monsoon    6  \n",
       "4      Monsoon    6  \n",
       "...        ...  ...  \n",
       "68415   Summer    3  \n",
       "68416   Summer    4  \n",
       "68417   Summer    2  \n",
       "68418   Summer    0  \n",
       "68419   Winter    6  \n",
       "\n",
       "[68420 rows x 12 columns]"
      ]
     },
     "execution_count": 53,
     "metadata": {},
     "output_type": "execute_result"
    }
   ],
   "source": [
    "date_dict= {\n",
    "    1: \"January\",\n",
    "    2: \"February\",\n",
    "    3: \"March\",\n",
    "    4: \"April\",\n",
    "    5: \"May\",\n",
    "    6: \"June\",\n",
    "    7: \"July\",\n",
    "    8: \"August\",\n",
    "    9: \"September\",\n",
    "    10: \"October\",\n",
    "    11: \"November\",\n",
    "    12: \"December\"}\n",
    "\n",
    "Day=[]\n",
    "Month=[]\n",
    "Year=[]\n",
    "for d in df[\"Arrival_Date\"]:\n",
    "    d=str(d)\n",
    "    date=d.split(\"-\")\n",
    "    Day.append(int(date[1]))\n",
    "    Month.append(date_dict[int(date[1])])\n",
    "    Year.append(int(date[0]))\n",
    "    # print(date)\n",
    "season=[]\n",
    "for month in Month:\n",
    "    if month == \"January\" or month==\"February\":\n",
    "        season.append(\"Winter\")\n",
    "    elif month == \"March\" or month==\"April\":\n",
    "        season.append(\"Spring\")\n",
    "    elif month == \"May\" or month==\"June\":\n",
    "        season.append(\"Summer\")\n",
    "    elif month == \"July\" or month==\"August\":\n",
    "        season.append(\"Monsoon\")\n",
    "    elif month==\"September\" or month==\"October\":\n",
    "        season.append(\"Autumn\")\n",
    "    elif month==\"November\" or month==\"December\":\n",
    "        season.append(\"Pre-winter\")\n",
    "# ! we are covering day month season and the dayta has year \n",
    "\n",
    "df[\"Month\"]=Month\n",
    "df[\"Year\"]=Year\n",
    "df[\"Season\"]=season\n",
    "# Check price for each day as it can vary on weekly market\n",
    "day_of_week=[]\n",
    "for w in df[\"Arrival_Date\"]:\n",
    "    dt=pd.Timestamp(w)\n",
    "    day=dt.day_of_week\n",
    "    day_of_week.append(day)\n",
    "df[\"Day\"]=day_of_week\n",
    "df"
   ]
  },
  {
   "cell_type": "code",
   "execution_count": 54,
   "metadata": {},
   "outputs": [
    {
     "name": "stdout",
     "output_type": "stream",
     "text": [
      "<class 'pandas.core.frame.DataFrame'>\n",
      "RangeIndex: 68420 entries, 0 to 68419\n",
      "Data columns (total 12 columns):\n",
      " #   Column        Non-Null Count  Dtype         \n",
      "---  ------        --------------  -----         \n",
      " 0   Commodity     68420 non-null  object        \n",
      " 1   State         68420 non-null  object        \n",
      " 2   District      68420 non-null  object        \n",
      " 3   Market        68420 non-null  object        \n",
      " 4   Arrival_Date  68420 non-null  datetime64[ns]\n",
      " 5   Min Price     68420 non-null  float64       \n",
      " 6   Max Price     68420 non-null  float64       \n",
      " 7   Modal Price   68420 non-null  float64       \n",
      " 8   Month         68420 non-null  object        \n",
      " 9   Year          68420 non-null  int64         \n",
      " 10  Season        68420 non-null  object        \n",
      " 11  Day           68420 non-null  int64         \n",
      "dtypes: datetime64[ns](1), float64(3), int64(2), object(6)\n",
      "memory usage: 6.3+ MB\n"
     ]
    }
   ],
   "source": [
    "df.info()"
   ]
  },
  {
   "cell_type": "code",
   "execution_count": 55,
   "metadata": {},
   "outputs": [
    {
     "name": "stdout",
     "output_type": "stream",
     "text": [
      "       Commodity  State  District  Market  Month  Year  Season  Day\n",
      "0              3     14        13      20     11  2015       0    0\n",
      "1              3     14        13      20      1  2015       1    6\n",
      "2              3     14        13      20      5  2015       1    6\n",
      "3              3     14        13      20      1  2015       1    6\n",
      "4              3     14        13      20      5  2015       1    6\n",
      "...          ...    ...       ...     ...    ...   ...     ...  ...\n",
      "68415          9      8       199     426      8  2019       4    3\n",
      "68416          9      8       199     426      8  2019       4    4\n",
      "68417          9      8       199     426      8  2019       4    2\n",
      "68418          9      8       199     426      8  2019       4    0\n",
      "68419          9     20        53     483      4  2024       5    6\n",
      "\n",
      "[68420 rows x 8 columns]\n"
     ]
    },
    {
     "name": "stderr",
     "output_type": "stream",
     "text": [
      "C:\\Users\\ArnavBhatia\\AppData\\Local\\Temp\\ipykernel_4952\\2866553969.py:10: SettingWithCopyWarning: \n",
      "A value is trying to be set on a copy of a slice from a DataFrame.\n",
      "Try using .loc[row_indexer,col_indexer] = value instead\n",
      "\n",
      "See the caveats in the documentation: https://pandas.pydata.org/pandas-docs/stable/user_guide/indexing.html#returning-a-view-versus-a-copy\n",
      "  df[col] = le.fit_transform(df[col])\n",
      "C:\\Users\\ArnavBhatia\\AppData\\Local\\Temp\\ipykernel_4952\\2866553969.py:10: SettingWithCopyWarning: \n",
      "A value is trying to be set on a copy of a slice from a DataFrame.\n",
      "Try using .loc[row_indexer,col_indexer] = value instead\n",
      "\n",
      "See the caveats in the documentation: https://pandas.pydata.org/pandas-docs/stable/user_guide/indexing.html#returning-a-view-versus-a-copy\n",
      "  df[col] = le.fit_transform(df[col])\n",
      "C:\\Users\\ArnavBhatia\\AppData\\Local\\Temp\\ipykernel_4952\\2866553969.py:10: SettingWithCopyWarning: \n",
      "A value is trying to be set on a copy of a slice from a DataFrame.\n",
      "Try using .loc[row_indexer,col_indexer] = value instead\n",
      "\n",
      "See the caveats in the documentation: https://pandas.pydata.org/pandas-docs/stable/user_guide/indexing.html#returning-a-view-versus-a-copy\n",
      "  df[col] = le.fit_transform(df[col])\n",
      "C:\\Users\\ArnavBhatia\\AppData\\Local\\Temp\\ipykernel_4952\\2866553969.py:10: SettingWithCopyWarning: \n",
      "A value is trying to be set on a copy of a slice from a DataFrame.\n",
      "Try using .loc[row_indexer,col_indexer] = value instead\n",
      "\n",
      "See the caveats in the documentation: https://pandas.pydata.org/pandas-docs/stable/user_guide/indexing.html#returning-a-view-versus-a-copy\n",
      "  df[col] = le.fit_transform(df[col])\n",
      "C:\\Users\\ArnavBhatia\\AppData\\Local\\Temp\\ipykernel_4952\\2866553969.py:10: SettingWithCopyWarning: \n",
      "A value is trying to be set on a copy of a slice from a DataFrame.\n",
      "Try using .loc[row_indexer,col_indexer] = value instead\n",
      "\n",
      "See the caveats in the documentation: https://pandas.pydata.org/pandas-docs/stable/user_guide/indexing.html#returning-a-view-versus-a-copy\n",
      "  df[col] = le.fit_transform(df[col])\n",
      "C:\\Users\\ArnavBhatia\\AppData\\Local\\Temp\\ipykernel_4952\\2866553969.py:10: SettingWithCopyWarning: \n",
      "A value is trying to be set on a copy of a slice from a DataFrame.\n",
      "Try using .loc[row_indexer,col_indexer] = value instead\n",
      "\n",
      "See the caveats in the documentation: https://pandas.pydata.org/pandas-docs/stable/user_guide/indexing.html#returning-a-view-versus-a-copy\n",
      "  df[col] = le.fit_transform(df[col])\n",
      "C:\\Users\\ArnavBhatia\\AppData\\Local\\Temp\\ipykernel_4952\\2866553969.py:10: SettingWithCopyWarning: \n",
      "A value is trying to be set on a copy of a slice from a DataFrame.\n",
      "Try using .loc[row_indexer,col_indexer] = value instead\n",
      "\n",
      "See the caveats in the documentation: https://pandas.pydata.org/pandas-docs/stable/user_guide/indexing.html#returning-a-view-versus-a-copy\n",
      "  df[col] = le.fit_transform(df[col])\n"
     ]
    },
    {
     "data": {
      "text/plain": [
       "((54736, 8), (13684, 8), (54736,), (13684,))"
      ]
     },
     "execution_count": 55,
     "metadata": {},
     "output_type": "execute_result"
    }
   ],
   "source": [
    "from sklearn.model_selection import train_test_split\n",
    "from sklearn.preprocessing import LabelEncoder, StandardScaler\n",
    "\n",
    "\n",
    "label_encoders = {}\n",
    "categorical_columns = ['Commodity', 'State', 'District', 'Market', 'Arrival_Date',\"Month\",\"Season\"]\n",
    "\n",
    "for col in categorical_columns:\n",
    "    le = LabelEncoder()\n",
    "    df[col] = le.fit_transform(df[col])\n",
    "    label_encoders[col] = le\n",
    "\n",
    "X = df.drop(columns=['Modal Price',\"Arrival_Date\",\"Min Price\",\"Max Price\"])\n",
    "print(X)\n",
    "y = df['Modal Price']\n",
    "\n",
    "scaler = StandardScaler()\n",
    "X_scaled = scaler.fit_transform(X)\n",
    "\n",
    "X_train, X_test, y_train, y_test = train_test_split(X_scaled, y, test_size=0.2, random_state=42)\n",
    "\n",
    "X_train.shape, X_test.shape, y_train.shape, y_test.shape\n"
   ]
  },
  {
   "cell_type": "code",
   "execution_count": 56,
   "metadata": {},
   "outputs": [
    {
     "name": "stderr",
     "output_type": "stream",
     "text": [
      "  1%|          | 1/100 [00:12<19:49, 12.02s/it]"
     ]
    },
    {
     "name": "stdout",
     "output_type": "stream",
     "text": [
      "Epoch 1/100, Loss: 37661764.7723\n"
     ]
    },
    {
     "name": "stderr",
     "output_type": "stream",
     "text": [
      "  2%|▏         | 2/100 [00:23<18:42, 11.45s/it]"
     ]
    },
    {
     "name": "stdout",
     "output_type": "stream",
     "text": [
      "Epoch 2/100, Loss: 6826937.5018\n"
     ]
    },
    {
     "name": "stderr",
     "output_type": "stream",
     "text": [
      "  3%|▎         | 3/100 [00:34<18:14, 11.28s/it]"
     ]
    },
    {
     "name": "stdout",
     "output_type": "stream",
     "text": [
      "Epoch 3/100, Loss: 5271337.1299\n"
     ]
    },
    {
     "name": "stderr",
     "output_type": "stream",
     "text": [
      "  4%|▍         | 4/100 [00:45<18:07, 11.32s/it]"
     ]
    },
    {
     "name": "stdout",
     "output_type": "stream",
     "text": [
      "Epoch 4/100, Loss: 4848060.4456\n"
     ]
    },
    {
     "name": "stderr",
     "output_type": "stream",
     "text": [
      "  5%|▌         | 5/100 [00:57<18:05, 11.42s/it]"
     ]
    },
    {
     "name": "stdout",
     "output_type": "stream",
     "text": [
      "Epoch 5/100, Loss: 4590739.5407\n"
     ]
    },
    {
     "name": "stderr",
     "output_type": "stream",
     "text": [
      "  6%|▌         | 6/100 [01:10<18:57, 12.10s/it]"
     ]
    },
    {
     "name": "stdout",
     "output_type": "stream",
     "text": [
      "Epoch 6/100, Loss: 4267906.6782\n"
     ]
    },
    {
     "name": "stderr",
     "output_type": "stream",
     "text": [
      "  7%|▋         | 7/100 [01:22<18:42, 12.07s/it]"
     ]
    },
    {
     "name": "stdout",
     "output_type": "stream",
     "text": [
      "Epoch 7/100, Loss: 4118398.4140\n"
     ]
    },
    {
     "name": "stderr",
     "output_type": "stream",
     "text": [
      "  8%|▊         | 8/100 [01:35<19:05, 12.45s/it]"
     ]
    },
    {
     "name": "stdout",
     "output_type": "stream",
     "text": [
      "Epoch 8/100, Loss: 3878799.6896\n"
     ]
    },
    {
     "name": "stderr",
     "output_type": "stream",
     "text": [
      "  9%|▉         | 9/100 [01:48<19:09, 12.63s/it]"
     ]
    },
    {
     "name": "stdout",
     "output_type": "stream",
     "text": [
      "Epoch 9/100, Loss: 3756761.4733\n"
     ]
    },
    {
     "name": "stderr",
     "output_type": "stream",
     "text": [
      " 10%|█         | 10/100 [02:14<25:08, 16.76s/it]"
     ]
    },
    {
     "name": "stdout",
     "output_type": "stream",
     "text": [
      "Epoch 10/100, Loss: 3628692.2014\n"
     ]
    },
    {
     "name": "stderr",
     "output_type": "stream",
     "text": [
      " 11%|█         | 11/100 [02:51<33:55, 22.87s/it]"
     ]
    },
    {
     "name": "stdout",
     "output_type": "stream",
     "text": [
      "Epoch 11/100, Loss: 3440649.9085\n"
     ]
    },
    {
     "name": "stderr",
     "output_type": "stream",
     "text": [
      " 12%|█▏        | 12/100 [03:24<37:54, 25.85s/it]"
     ]
    },
    {
     "name": "stdout",
     "output_type": "stream",
     "text": [
      "Epoch 12/100, Loss: 3378621.7274\n"
     ]
    },
    {
     "name": "stderr",
     "output_type": "stream",
     "text": [
      " 13%|█▎        | 13/100 [04:02<42:54, 29.59s/it]"
     ]
    },
    {
     "name": "stdout",
     "output_type": "stream",
     "text": [
      "Epoch 13/100, Loss: 3334437.6421\n"
     ]
    },
    {
     "name": "stderr",
     "output_type": "stream",
     "text": [
      " 14%|█▍        | 14/100 [04:29<41:23, 28.87s/it]"
     ]
    },
    {
     "name": "stdout",
     "output_type": "stream",
     "text": [
      "Epoch 14/100, Loss: 3222185.8694\n"
     ]
    },
    {
     "name": "stderr",
     "output_type": "stream",
     "text": [
      " 15%|█▌        | 15/100 [04:40<33:16, 23.49s/it]"
     ]
    },
    {
     "name": "stdout",
     "output_type": "stream",
     "text": [
      "Epoch 15/100, Loss: 3116099.7343\n"
     ]
    },
    {
     "name": "stderr",
     "output_type": "stream",
     "text": [
      " 16%|█▌        | 16/100 [04:51<27:29, 19.63s/it]"
     ]
    },
    {
     "name": "stdout",
     "output_type": "stream",
     "text": [
      "Epoch 16/100, Loss: 3053878.8949\n"
     ]
    },
    {
     "name": "stderr",
     "output_type": "stream",
     "text": [
      " 17%|█▋        | 17/100 [05:02<23:28, 16.98s/it]"
     ]
    },
    {
     "name": "stdout",
     "output_type": "stream",
     "text": [
      "Epoch 17/100, Loss: 2997127.2288\n"
     ]
    },
    {
     "name": "stderr",
     "output_type": "stream",
     "text": [
      " 18%|█▊        | 18/100 [05:13<20:46, 15.20s/it]"
     ]
    },
    {
     "name": "stdout",
     "output_type": "stream",
     "text": [
      "Epoch 18/100, Loss: 2928749.1833\n"
     ]
    },
    {
     "name": "stderr",
     "output_type": "stream",
     "text": [
      " 19%|█▉        | 19/100 [05:24<18:49, 13.94s/it]"
     ]
    },
    {
     "name": "stdout",
     "output_type": "stream",
     "text": [
      "Epoch 19/100, Loss: 2891079.9555\n"
     ]
    },
    {
     "name": "stderr",
     "output_type": "stream",
     "text": [
      " 20%|██        | 20/100 [05:35<17:33, 13.17s/it]"
     ]
    },
    {
     "name": "stdout",
     "output_type": "stream",
     "text": [
      "Epoch 20/100, Loss: 2807032.5519\n"
     ]
    },
    {
     "name": "stderr",
     "output_type": "stream",
     "text": [
      " 21%|██        | 21/100 [05:46<16:33, 12.58s/it]"
     ]
    },
    {
     "name": "stdout",
     "output_type": "stream",
     "text": [
      "Epoch 21/100, Loss: 2748389.7642\n"
     ]
    },
    {
     "name": "stderr",
     "output_type": "stream",
     "text": [
      " 22%|██▏       | 22/100 [05:58<15:55, 12.25s/it]"
     ]
    },
    {
     "name": "stdout",
     "output_type": "stream",
     "text": [
      "Epoch 22/100, Loss: 2773730.0304\n"
     ]
    },
    {
     "name": "stderr",
     "output_type": "stream",
     "text": [
      " 23%|██▎       | 23/100 [06:09<15:13, 11.86s/it]"
     ]
    },
    {
     "name": "stdout",
     "output_type": "stream",
     "text": [
      "Epoch 23/100, Loss: 2659115.8407\n"
     ]
    },
    {
     "name": "stderr",
     "output_type": "stream",
     "text": [
      " 24%|██▍       | 24/100 [06:20<14:41, 11.60s/it]"
     ]
    },
    {
     "name": "stdout",
     "output_type": "stream",
     "text": [
      "Epoch 24/100, Loss: 2678919.4625\n"
     ]
    },
    {
     "name": "stderr",
     "output_type": "stream",
     "text": [
      " 25%|██▌       | 25/100 [06:31<14:12, 11.37s/it]"
     ]
    },
    {
     "name": "stdout",
     "output_type": "stream",
     "text": [
      "Epoch 25/100, Loss: 2628440.0422\n"
     ]
    },
    {
     "name": "stderr",
     "output_type": "stream",
     "text": [
      " 26%|██▌       | 26/100 [06:42<14:07, 11.45s/it]"
     ]
    },
    {
     "name": "stdout",
     "output_type": "stream",
     "text": [
      "Epoch 26/100, Loss: 2590559.3369\n"
     ]
    },
    {
     "name": "stderr",
     "output_type": "stream",
     "text": [
      " 27%|██▋       | 27/100 [06:53<13:51, 11.39s/it]"
     ]
    },
    {
     "name": "stdout",
     "output_type": "stream",
     "text": [
      "Epoch 27/100, Loss: 2557189.0789\n"
     ]
    },
    {
     "name": "stderr",
     "output_type": "stream",
     "text": [
      " 28%|██▊       | 28/100 [07:04<13:32, 11.29s/it]"
     ]
    },
    {
     "name": "stdout",
     "output_type": "stream",
     "text": [
      "Epoch 28/100, Loss: 2574017.7350\n"
     ]
    },
    {
     "name": "stderr",
     "output_type": "stream",
     "text": [
      " 29%|██▉       | 29/100 [07:16<13:17, 11.23s/it]"
     ]
    },
    {
     "name": "stdout",
     "output_type": "stream",
     "text": [
      "Epoch 29/100, Loss: 2509340.5588\n"
     ]
    },
    {
     "name": "stderr",
     "output_type": "stream",
     "text": [
      " 30%|███       | 30/100 [07:27<13:03, 11.20s/it]"
     ]
    },
    {
     "name": "stdout",
     "output_type": "stream",
     "text": [
      "Epoch 30/100, Loss: 2503925.5014\n"
     ]
    },
    {
     "name": "stderr",
     "output_type": "stream",
     "text": [
      " 31%|███       | 31/100 [07:38<12:49, 11.15s/it]"
     ]
    },
    {
     "name": "stdout",
     "output_type": "stream",
     "text": [
      "Epoch 31/100, Loss: 2465809.7364\n"
     ]
    },
    {
     "name": "stderr",
     "output_type": "stream",
     "text": [
      " 32%|███▏      | 32/100 [07:49<12:38, 11.15s/it]"
     ]
    },
    {
     "name": "stdout",
     "output_type": "stream",
     "text": [
      "Epoch 32/100, Loss: 2429025.3324\n"
     ]
    },
    {
     "name": "stderr",
     "output_type": "stream",
     "text": [
      " 33%|███▎      | 33/100 [08:00<12:35, 11.27s/it]"
     ]
    },
    {
     "name": "stdout",
     "output_type": "stream",
     "text": [
      "Epoch 33/100, Loss: 2403713.5379\n"
     ]
    },
    {
     "name": "stderr",
     "output_type": "stream",
     "text": [
      " 34%|███▍      | 34/100 [08:23<16:09, 14.69s/it]"
     ]
    },
    {
     "name": "stdout",
     "output_type": "stream",
     "text": [
      "Epoch 34/100, Loss: 2435260.9505\n"
     ]
    },
    {
     "name": "stderr",
     "output_type": "stream",
     "text": [
      " 35%|███▌      | 35/100 [08:57<22:18, 20.59s/it]"
     ]
    },
    {
     "name": "stdout",
     "output_type": "stream",
     "text": [
      "Epoch 35/100, Loss: 2371502.0076\n"
     ]
    },
    {
     "name": "stderr",
     "output_type": "stream",
     "text": [
      " 36%|███▌      | 36/100 [09:30<25:46, 24.16s/it]"
     ]
    },
    {
     "name": "stdout",
     "output_type": "stream",
     "text": [
      "Epoch 36/100, Loss: 2388285.5410\n"
     ]
    },
    {
     "name": "stderr",
     "output_type": "stream",
     "text": [
      " 37%|███▋      | 37/100 [10:01<27:39, 26.34s/it]"
     ]
    },
    {
     "name": "stdout",
     "output_type": "stream",
     "text": [
      "Epoch 37/100, Loss: 2332216.4752\n"
     ]
    },
    {
     "name": "stderr",
     "output_type": "stream",
     "text": [
      " 38%|███▊      | 38/100 [10:33<28:58, 28.04s/it]"
     ]
    },
    {
     "name": "stdout",
     "output_type": "stream",
     "text": [
      "Epoch 38/100, Loss: 2362978.9114\n"
     ]
    },
    {
     "name": "stderr",
     "output_type": "stream",
     "text": [
      " 39%|███▉      | 39/100 [11:07<30:10, 29.67s/it]"
     ]
    },
    {
     "name": "stdout",
     "output_type": "stream",
     "text": [
      "Epoch 39/100, Loss: 2308260.4272\n"
     ]
    },
    {
     "name": "stderr",
     "output_type": "stream",
     "text": [
      " 40%|████      | 40/100 [11:28<26:57, 26.96s/it]"
     ]
    },
    {
     "name": "stdout",
     "output_type": "stream",
     "text": [
      "Epoch 40/100, Loss: 2326343.2564\n"
     ]
    },
    {
     "name": "stderr",
     "output_type": "stream",
     "text": [
      " 41%|████      | 41/100 [11:37<21:14, 21.61s/it]"
     ]
    },
    {
     "name": "stdout",
     "output_type": "stream",
     "text": [
      "Epoch 41/100, Loss: 2313145.6178\n"
     ]
    },
    {
     "name": "stderr",
     "output_type": "stream",
     "text": [
      " 42%|████▏     | 42/100 [11:47<17:30, 18.12s/it]"
     ]
    },
    {
     "name": "stdout",
     "output_type": "stream",
     "text": [
      "Epoch 42/100, Loss: 2259578.3385\n"
     ]
    },
    {
     "name": "stderr",
     "output_type": "stream",
     "text": [
      " 43%|████▎     | 43/100 [12:00<15:56, 16.79s/it]"
     ]
    },
    {
     "name": "stdout",
     "output_type": "stream",
     "text": [
      "Epoch 43/100, Loss: 2242473.9941\n"
     ]
    },
    {
     "name": "stderr",
     "output_type": "stream",
     "text": [
      " 44%|████▍     | 44/100 [12:27<18:19, 19.64s/it]"
     ]
    },
    {
     "name": "stdout",
     "output_type": "stream",
     "text": [
      "Epoch 44/100, Loss: 2205097.7682\n"
     ]
    },
    {
     "name": "stderr",
     "output_type": "stream",
     "text": [
      " 45%|████▌     | 45/100 [12:54<20:08, 21.97s/it]"
     ]
    },
    {
     "name": "stdout",
     "output_type": "stream",
     "text": [
      "Epoch 45/100, Loss: 2203816.5847\n"
     ]
    },
    {
     "name": "stderr",
     "output_type": "stream",
     "text": [
      " 46%|████▌     | 46/100 [13:21<21:07, 23.48s/it]"
     ]
    },
    {
     "name": "stdout",
     "output_type": "stream",
     "text": [
      "Epoch 46/100, Loss: 2211628.9889\n"
     ]
    },
    {
     "name": "stderr",
     "output_type": "stream",
     "text": [
      " 47%|████▋     | 47/100 [13:48<21:41, 24.56s/it]"
     ]
    },
    {
     "name": "stdout",
     "output_type": "stream",
     "text": [
      "Epoch 47/100, Loss: 2188638.4719\n"
     ]
    },
    {
     "name": "stderr",
     "output_type": "stream",
     "text": [
      " 48%|████▊     | 48/100 [14:15<21:56, 25.31s/it]"
     ]
    },
    {
     "name": "stdout",
     "output_type": "stream",
     "text": [
      "Epoch 48/100, Loss: 2163807.8504\n"
     ]
    },
    {
     "name": "stderr",
     "output_type": "stream",
     "text": [
      " 49%|████▉     | 49/100 [14:42<21:55, 25.80s/it]"
     ]
    },
    {
     "name": "stdout",
     "output_type": "stream",
     "text": [
      "Epoch 49/100, Loss: 2177212.2985\n"
     ]
    },
    {
     "name": "stderr",
     "output_type": "stream",
     "text": [
      " 50%|█████     | 50/100 [15:10<21:59, 26.40s/it]"
     ]
    },
    {
     "name": "stdout",
     "output_type": "stream",
     "text": [
      "Epoch 50/100, Loss: 2169764.6821\n"
     ]
    },
    {
     "name": "stderr",
     "output_type": "stream",
     "text": [
      " 51%|█████     | 51/100 [15:37<21:47, 26.68s/it]"
     ]
    },
    {
     "name": "stdout",
     "output_type": "stream",
     "text": [
      "Epoch 51/100, Loss: 2125688.8208\n"
     ]
    },
    {
     "name": "stderr",
     "output_type": "stream",
     "text": [
      " 52%|█████▏    | 52/100 [16:04<21:27, 26.82s/it]"
     ]
    },
    {
     "name": "stdout",
     "output_type": "stream",
     "text": [
      "Epoch 52/100, Loss: 2095675.3529\n"
     ]
    },
    {
     "name": "stderr",
     "output_type": "stream",
     "text": [
      " 53%|█████▎    | 53/100 [16:31<21:04, 26.90s/it]"
     ]
    },
    {
     "name": "stdout",
     "output_type": "stream",
     "text": [
      "Epoch 53/100, Loss: 2137052.1009\n"
     ]
    },
    {
     "name": "stderr",
     "output_type": "stream",
     "text": [
      " 54%|█████▍    | 54/100 [16:58<20:26, 26.66s/it]"
     ]
    },
    {
     "name": "stdout",
     "output_type": "stream",
     "text": [
      "Epoch 54/100, Loss: 2095634.8394\n"
     ]
    },
    {
     "name": "stderr",
     "output_type": "stream",
     "text": [
      " 55%|█████▌    | 55/100 [17:25<20:16, 27.02s/it]"
     ]
    },
    {
     "name": "stdout",
     "output_type": "stream",
     "text": [
      "Epoch 55/100, Loss: 2082148.5423\n"
     ]
    },
    {
     "name": "stderr",
     "output_type": "stream",
     "text": [
      " 56%|█████▌    | 56/100 [17:53<19:54, 27.14s/it]"
     ]
    },
    {
     "name": "stdout",
     "output_type": "stream",
     "text": [
      "Epoch 56/100, Loss: 2061332.0617\n"
     ]
    },
    {
     "name": "stderr",
     "output_type": "stream",
     "text": [
      " 57%|█████▋    | 57/100 [18:21<19:36, 27.35s/it]"
     ]
    },
    {
     "name": "stdout",
     "output_type": "stream",
     "text": [
      "Epoch 57/100, Loss: 2089255.9894\n"
     ]
    },
    {
     "name": "stderr",
     "output_type": "stream",
     "text": [
      " 58%|█████▊    | 58/100 [18:49<19:16, 27.54s/it]"
     ]
    },
    {
     "name": "stdout",
     "output_type": "stream",
     "text": [
      "Epoch 58/100, Loss: 2041752.0185\n"
     ]
    },
    {
     "name": "stderr",
     "output_type": "stream",
     "text": [
      " 59%|█████▉    | 59/100 [19:17<18:56, 27.73s/it]"
     ]
    },
    {
     "name": "stdout",
     "output_type": "stream",
     "text": [
      "Epoch 59/100, Loss: 2026732.8145\n"
     ]
    },
    {
     "name": "stderr",
     "output_type": "stream",
     "text": [
      " 60%|██████    | 60/100 [19:44<18:19, 27.48s/it]"
     ]
    },
    {
     "name": "stdout",
     "output_type": "stream",
     "text": [
      "Epoch 60/100, Loss: 2024340.3222\n"
     ]
    },
    {
     "name": "stderr",
     "output_type": "stream",
     "text": [
      " 61%|██████    | 61/100 [20:11<17:48, 27.39s/it]"
     ]
    },
    {
     "name": "stdout",
     "output_type": "stream",
     "text": [
      "Epoch 61/100, Loss: 1995862.7447\n"
     ]
    },
    {
     "name": "stderr",
     "output_type": "stream",
     "text": [
      " 62%|██████▏   | 62/100 [20:39<17:24, 27.49s/it]"
     ]
    },
    {
     "name": "stdout",
     "output_type": "stream",
     "text": [
      "Epoch 62/100, Loss: 1979827.5307\n"
     ]
    },
    {
     "name": "stderr",
     "output_type": "stream",
     "text": [
      " 63%|██████▎   | 63/100 [21:06<17:00, 27.58s/it]"
     ]
    },
    {
     "name": "stdout",
     "output_type": "stream",
     "text": [
      "Epoch 63/100, Loss: 1949820.0115\n"
     ]
    },
    {
     "name": "stderr",
     "output_type": "stream",
     "text": [
      " 64%|██████▍   | 64/100 [21:34<16:30, 27.51s/it]"
     ]
    },
    {
     "name": "stdout",
     "output_type": "stream",
     "text": [
      "Epoch 64/100, Loss: 1972209.5935\n"
     ]
    },
    {
     "name": "stderr",
     "output_type": "stream",
     "text": [
      " 65%|██████▌   | 65/100 [22:01<16:01, 27.48s/it]"
     ]
    },
    {
     "name": "stdout",
     "output_type": "stream",
     "text": [
      "Epoch 65/100, Loss: 1943667.2386\n"
     ]
    },
    {
     "name": "stderr",
     "output_type": "stream",
     "text": [
      " 66%|██████▌   | 66/100 [22:29<15:34, 27.50s/it]"
     ]
    },
    {
     "name": "stdout",
     "output_type": "stream",
     "text": [
      "Epoch 66/100, Loss: 1956350.7980\n"
     ]
    },
    {
     "name": "stderr",
     "output_type": "stream",
     "text": [
      " 67%|██████▋   | 67/100 [22:56<15:04, 27.40s/it]"
     ]
    },
    {
     "name": "stdout",
     "output_type": "stream",
     "text": [
      "Epoch 67/100, Loss: 1917834.5322\n"
     ]
    },
    {
     "name": "stderr",
     "output_type": "stream",
     "text": [
      " 68%|██████▊   | 68/100 [23:23<14:38, 27.44s/it]"
     ]
    },
    {
     "name": "stdout",
     "output_type": "stream",
     "text": [
      "Epoch 68/100, Loss: 1894848.1543\n"
     ]
    },
    {
     "name": "stderr",
     "output_type": "stream",
     "text": [
      " 69%|██████▉   | 69/100 [23:49<13:57, 27.01s/it]"
     ]
    },
    {
     "name": "stdout",
     "output_type": "stream",
     "text": [
      "Epoch 69/100, Loss: 1899749.5795\n"
     ]
    },
    {
     "name": "stderr",
     "output_type": "stream",
     "text": [
      " 70%|███████   | 70/100 [24:09<12:26, 24.89s/it]"
     ]
    },
    {
     "name": "stdout",
     "output_type": "stream",
     "text": [
      "Epoch 70/100, Loss: 1931457.4251\n"
     ]
    },
    {
     "name": "stderr",
     "output_type": "stream",
     "text": [
      " 71%|███████   | 71/100 [24:19<09:48, 20.29s/it]"
     ]
    },
    {
     "name": "stdout",
     "output_type": "stream",
     "text": [
      "Epoch 71/100, Loss: 1872780.9981\n"
     ]
    },
    {
     "name": "stderr",
     "output_type": "stream",
     "text": [
      " 72%|███████▏  | 72/100 [24:29<07:58, 17.09s/it]"
     ]
    },
    {
     "name": "stdout",
     "output_type": "stream",
     "text": [
      "Epoch 72/100, Loss: 1883163.9612\n"
     ]
    },
    {
     "name": "stderr",
     "output_type": "stream",
     "text": [
      " 73%|███████▎  | 73/100 [24:38<06:40, 14.83s/it]"
     ]
    },
    {
     "name": "stdout",
     "output_type": "stream",
     "text": [
      "Epoch 73/100, Loss: 1912521.2215\n"
     ]
    },
    {
     "name": "stderr",
     "output_type": "stream",
     "text": [
      " 74%|███████▍  | 74/100 [24:48<05:46, 13.34s/it]"
     ]
    },
    {
     "name": "stdout",
     "output_type": "stream",
     "text": [
      "Epoch 74/100, Loss: 1878717.7008\n"
     ]
    },
    {
     "name": "stderr",
     "output_type": "stream",
     "text": [
      " 75%|███████▌  | 75/100 [24:58<05:07, 12.30s/it]"
     ]
    },
    {
     "name": "stdout",
     "output_type": "stream",
     "text": [
      "Epoch 75/100, Loss: 1885838.4615\n"
     ]
    },
    {
     "name": "stderr",
     "output_type": "stream",
     "text": [
      " 76%|███████▌  | 76/100 [25:07<04:36, 11.51s/it]"
     ]
    },
    {
     "name": "stdout",
     "output_type": "stream",
     "text": [
      "Epoch 76/100, Loss: 1831137.0444\n"
     ]
    },
    {
     "name": "stderr",
     "output_type": "stream",
     "text": [
      " 77%|███████▋  | 77/100 [25:17<04:11, 10.91s/it]"
     ]
    },
    {
     "name": "stdout",
     "output_type": "stream",
     "text": [
      "Epoch 77/100, Loss: 1865620.4355\n"
     ]
    },
    {
     "name": "stderr",
     "output_type": "stream",
     "text": [
      " 78%|███████▊  | 78/100 [25:26<03:49, 10.42s/it]"
     ]
    },
    {
     "name": "stdout",
     "output_type": "stream",
     "text": [
      "Epoch 78/100, Loss: 1863710.9952\n"
     ]
    },
    {
     "name": "stderr",
     "output_type": "stream",
     "text": [
      " 79%|███████▉  | 79/100 [25:35<03:31, 10.05s/it]"
     ]
    },
    {
     "name": "stdout",
     "output_type": "stream",
     "text": [
      "Epoch 79/100, Loss: 1871391.5476\n"
     ]
    },
    {
     "name": "stderr",
     "output_type": "stream",
     "text": [
      " 80%|████████  | 80/100 [25:45<03:15,  9.79s/it]"
     ]
    },
    {
     "name": "stdout",
     "output_type": "stream",
     "text": [
      "Epoch 80/100, Loss: 1834951.4257\n"
     ]
    },
    {
     "name": "stderr",
     "output_type": "stream",
     "text": [
      " 81%|████████  | 81/100 [25:54<03:03,  9.64s/it]"
     ]
    },
    {
     "name": "stdout",
     "output_type": "stream",
     "text": [
      "Epoch 81/100, Loss: 1808751.6055\n"
     ]
    },
    {
     "name": "stderr",
     "output_type": "stream",
     "text": [
      " 82%|████████▏ | 82/100 [26:03<02:51,  9.52s/it]"
     ]
    },
    {
     "name": "stdout",
     "output_type": "stream",
     "text": [
      "Epoch 82/100, Loss: 1844363.9051\n"
     ]
    },
    {
     "name": "stderr",
     "output_type": "stream",
     "text": [
      " 83%|████████▎ | 83/100 [26:12<02:40,  9.42s/it]"
     ]
    },
    {
     "name": "stdout",
     "output_type": "stream",
     "text": [
      "Epoch 83/100, Loss: 1810640.8552\n"
     ]
    },
    {
     "name": "stderr",
     "output_type": "stream",
     "text": [
      " 84%|████████▍ | 84/100 [26:22<02:30,  9.38s/it]"
     ]
    },
    {
     "name": "stdout",
     "output_type": "stream",
     "text": [
      "Epoch 84/100, Loss: 1812650.8133\n"
     ]
    },
    {
     "name": "stderr",
     "output_type": "stream",
     "text": [
      " 85%|████████▌ | 85/100 [26:31<02:19,  9.33s/it]"
     ]
    },
    {
     "name": "stdout",
     "output_type": "stream",
     "text": [
      "Epoch 85/100, Loss: 1803279.5965\n"
     ]
    },
    {
     "name": "stderr",
     "output_type": "stream",
     "text": [
      " 86%|████████▌ | 86/100 [26:40<02:09,  9.28s/it]"
     ]
    },
    {
     "name": "stdout",
     "output_type": "stream",
     "text": [
      "Epoch 86/100, Loss: 1810837.1739\n"
     ]
    },
    {
     "name": "stderr",
     "output_type": "stream",
     "text": [
      " 87%|████████▋ | 87/100 [26:49<02:00,  9.26s/it]"
     ]
    },
    {
     "name": "stdout",
     "output_type": "stream",
     "text": [
      "Epoch 87/100, Loss: 1828103.5848\n"
     ]
    },
    {
     "name": "stderr",
     "output_type": "stream",
     "text": [
      " 88%|████████▊ | 88/100 [26:58<01:50,  9.23s/it]"
     ]
    },
    {
     "name": "stdout",
     "output_type": "stream",
     "text": [
      "Epoch 88/100, Loss: 1766217.6117\n"
     ]
    },
    {
     "name": "stderr",
     "output_type": "stream",
     "text": [
      " 89%|████████▉ | 89/100 [27:08<01:41,  9.23s/it]"
     ]
    },
    {
     "name": "stdout",
     "output_type": "stream",
     "text": [
      "Epoch 89/100, Loss: 1772803.9064\n"
     ]
    },
    {
     "name": "stderr",
     "output_type": "stream",
     "text": [
      " 90%|█████████ | 90/100 [27:17<01:32,  9.23s/it]"
     ]
    },
    {
     "name": "stdout",
     "output_type": "stream",
     "text": [
      "Epoch 90/100, Loss: 1781863.1762\n"
     ]
    },
    {
     "name": "stderr",
     "output_type": "stream",
     "text": [
      " 91%|█████████ | 91/100 [27:26<01:22,  9.19s/it]"
     ]
    },
    {
     "name": "stdout",
     "output_type": "stream",
     "text": [
      "Epoch 91/100, Loss: 1780268.0329\n"
     ]
    },
    {
     "name": "stderr",
     "output_type": "stream",
     "text": [
      " 92%|█████████▏| 92/100 [27:35<01:12,  9.11s/it]"
     ]
    },
    {
     "name": "stdout",
     "output_type": "stream",
     "text": [
      "Epoch 92/100, Loss: 1770900.1756\n"
     ]
    },
    {
     "name": "stderr",
     "output_type": "stream",
     "text": [
      " 93%|█████████▎| 93/100 [27:44<01:03,  9.08s/it]"
     ]
    },
    {
     "name": "stdout",
     "output_type": "stream",
     "text": [
      "Epoch 93/100, Loss: 1761053.4273\n"
     ]
    },
    {
     "name": "stderr",
     "output_type": "stream",
     "text": [
      " 94%|█████████▍| 94/100 [27:53<00:54,  9.08s/it]"
     ]
    },
    {
     "name": "stdout",
     "output_type": "stream",
     "text": [
      "Epoch 94/100, Loss: 1730716.5858\n"
     ]
    },
    {
     "name": "stderr",
     "output_type": "stream",
     "text": [
      " 95%|█████████▌| 95/100 [28:02<00:45,  9.09s/it]"
     ]
    },
    {
     "name": "stdout",
     "output_type": "stream",
     "text": [
      "Epoch 95/100, Loss: 1738832.3484\n"
     ]
    },
    {
     "name": "stderr",
     "output_type": "stream",
     "text": [
      " 96%|█████████▌| 96/100 [28:11<00:36,  9.17s/it]"
     ]
    },
    {
     "name": "stdout",
     "output_type": "stream",
     "text": [
      "Epoch 96/100, Loss: 1771559.6615\n"
     ]
    },
    {
     "name": "stderr",
     "output_type": "stream",
     "text": [
      " 97%|█████████▋| 97/100 [28:21<00:27,  9.16s/it]"
     ]
    },
    {
     "name": "stdout",
     "output_type": "stream",
     "text": [
      "Epoch 97/100, Loss: 1764677.8425\n"
     ]
    },
    {
     "name": "stderr",
     "output_type": "stream",
     "text": [
      " 98%|█████████▊| 98/100 [28:30<00:18,  9.20s/it]"
     ]
    },
    {
     "name": "stdout",
     "output_type": "stream",
     "text": [
      "Epoch 98/100, Loss: 1731654.7184\n"
     ]
    },
    {
     "name": "stderr",
     "output_type": "stream",
     "text": [
      " 99%|█████████▉| 99/100 [28:39<00:09,  9.14s/it]"
     ]
    },
    {
     "name": "stdout",
     "output_type": "stream",
     "text": [
      "Epoch 99/100, Loss: 1746899.4496\n"
     ]
    },
    {
     "name": "stderr",
     "output_type": "stream",
     "text": [
      "100%|██████████| 100/100 [28:48<00:00, 17.28s/it]"
     ]
    },
    {
     "name": "stdout",
     "output_type": "stream",
     "text": [
      "Epoch 100/100, Loss: 1723047.3843\n"
     ]
    },
    {
     "name": "stderr",
     "output_type": "stream",
     "text": [
      "\n"
     ]
    },
    {
     "data": {
      "text/plain": [
       "'price_prediction_model10.pth'"
      ]
     },
     "execution_count": 56,
     "metadata": {},
     "output_type": "execute_result"
    }
   ],
   "source": [
    "import torch\n",
    "import torch.nn as nn\n",
    "import torch.optim as optim\n",
    "from torch.utils.data import TensorDataset, DataLoader\n",
    "from tqdm.auto import tqdm\n",
    "device=\"cuda\" if torch.cuda.is_available() else \"cpu\"\n",
    "# device=\"cpu\"\n",
    "X_train_tensor = torch.tensor(X_train, dtype=torch.float32).to(device)\n",
    "y_train_tensor = torch.tensor(y_train.values, dtype=torch.float32).unsqueeze(1).to(device)\n",
    "X_test_tensor = torch.tensor(X_test, dtype=torch.float32).to(device)\n",
    "y_test_tensor = torch.tensor(y_test.values, dtype=torch.float32).unsqueeze(1).to(device)\n",
    "\n",
    "batch_size = 16\n",
    "train_dataset = TensorDataset(X_train_tensor, y_train_tensor)\n",
    "train_loader = DataLoader(train_dataset, batch_size=batch_size, shuffle=True)\n",
    "class PricePredictionModel(nn.Module):\n",
    "    def __init__(self):\n",
    "        super(PricePredictionModel, self).__init__()\n",
    "        # self.fc1 = nn.Linear(7, 64)\n",
    "        # self.fc1 = nn.Linear(8, 512)\n",
    "        # self.fc1 = nn.Linear(8, 32)\n",
    "        self.fc1 = nn.Linear(8, 16)\n",
    "        # self.fc2 = nn.Linear(32, 256)\n",
    "        self.fc2 = nn.Linear(16, 256)\n",
    "        # self.fc2 = nn.Linear(512, 256)\n",
    "        self.fc3=nn.Linear(256,128)\n",
    "        self.conv=nn.Conv1d(in_channels=128,out_channels=64,kernel_size=1)\n",
    "        self.fc4 = nn.Linear(64, 32)\n",
    "        self.fc5 = nn.Linear(32, 16)\n",
    "        self.output = nn.Linear(16, 1)\n",
    "    # def forward(self, x):\n",
    "    #     x = torch.relu(self.fc1(x))\n",
    "    #     x = torch.relu(self.fc2(x))\n",
    "    #     x = torch.relu(self.fc3(x))\n",
    "    #     # x=self.conv(x)\n",
    "    #     x = torch.relu(self.fc4(x))\n",
    "    #     x = torch.relu(self.fc5(x))\n",
    "    #     x = self.output(x)\n",
    "    #     return x\n",
    "    def forward(self, x):\n",
    "        # Pass through fully connected layers\n",
    "        x = torch.relu(self.fc1(x))\n",
    "        x = torch.relu(self.fc2(x))\n",
    "        x = torch.relu(self.fc3(x))\n",
    "\n",
    "        # Reshape the tensor to have 128 channels for Conv1d\n",
    "        x = x.view(x.size(0), 128, 1)  # Reshape to [batch_size, in_channels, width]\n",
    "\n",
    "        # Pass through convolutional layer\n",
    "        x = self.conv(x)\n",
    "\n",
    "        # Flatten the output of conv layer before passing to fully connected layers\n",
    "        x = x.view(x.size(0), -1)  # Flatten to [batch_size, num_features]\n",
    "\n",
    "        # Pass through the remaining fully connected layers\n",
    "        x = torch.relu(self.fc4(x))\n",
    "        x = torch.relu(self.fc5(x))\n",
    "        x = self.output(x)\n",
    "        return x\n",
    "\n",
    "\n",
    "# Initialize the model, loss function, and optimizer\n",
    "model = PricePredictionModel().to(device)\n",
    "criterion = nn.MSELoss()\n",
    "optimizer = optim.Adam(model.parameters(), lr=0.001)\n",
    "\n",
    "# Training the model\n",
    "num_epochs = 100\n",
    "for epoch in tqdm(range(num_epochs)):\n",
    "    model.train()  # Set model to training mode\n",
    "    \n",
    "    running_loss = 0.0\n",
    "    for X_batch, y_batch in train_loader:\n",
    "        optimizer.zero_grad()\n",
    "        \n",
    "        predictions = model(X_batch)\n",
    "        loss = criterion(predictions, y_batch)\n",
    "        \n",
    "        loss.backward()\n",
    "        optimizer.step()\n",
    "        \n",
    "        running_loss += loss.item()\n",
    "    \n",
    "    print(f'Epoch {epoch+1}/{num_epochs}, Loss: {running_loss/len(train_loader):.4f}')\n",
    "\n",
    "model_path = 'price_prediction_model10.pth'\n",
    "torch.save(model.state_dict(), model_path)\n",
    "\n",
    "model_path\n"
   ]
  },
  {
   "cell_type": "code",
   "execution_count": 57,
   "metadata": {},
   "outputs": [
    {
     "name": "stdout",
     "output_type": "stream",
     "text": [
      "Test set MSE: 2185963.2500\n"
     ]
    }
   ],
   "source": [
    "model.eval()\n",
    "with torch.no_grad():\n",
    "    predictions = model(X_test_tensor)\n",
    "    mse = criterion(predictions, y_test_tensor)\n",
    "    print(f'Test set MSE: {mse:.4f}')"
   ]
  },
  {
   "cell_type": "code",
   "execution_count": 58,
   "metadata": {},
   "outputs": [
    {
     "name": "stdout",
     "output_type": "stream",
     "text": [
      "Mean Squared Error (MSE): 2185963.3740\n",
      "Mean Absolute Error (MAE): 789.6833\n",
      "R-squared (R²): 0.9551\n"
     ]
    }
   ],
   "source": [
    "from sklearn.metrics import mean_squared_error, mean_absolute_error, r2_score\n",
    "predictions_np_cpu=predictions.to(\"cpu\")\n",
    "mse = mean_squared_error(y_test, predictions_np_cpu)\n",
    "mae = mean_absolute_error(y_test,  predictions_np_cpu)\n",
    "r2 = r2_score(y_test,  predictions_np_cpu)\n",
    "\n",
    "print(f'Mean Squared Error (MSE): {mse:.4f}')\n",
    "print(f'Mean Absolute Error (MAE): {mae:.4f}')\n",
    "print(f'R-squared (R²): {r2:.4f}')\n"
   ]
  },
  {
   "cell_type": "code",
   "execution_count": 59,
   "metadata": {},
   "outputs": [],
   "source": [
    "# y_test.shape\n"
   ]
  },
  {
   "cell_type": "code",
   "execution_count": 60,
   "metadata": {},
   "outputs": [
    {
     "name": "stdout",
     "output_type": "stream",
     "text": [
      "[[ 5000.          5963.6015625 ]\n",
      " [ 8000.          7418.48730469]\n",
      " [12350.         11063.01367188]\n",
      " ...\n",
      " [ 4475.          4351.99609375]\n",
      " [ 3400.          2637.90722656]\n",
      " [  750.           653.35339355]]\n"
     ]
    }
   ],
   "source": [
    "pred=predictions.cpu().numpy()\n",
    "import numpy as np\n",
    "y_test=y_test.to_numpy()\n",
    "array1_reshaped = y_test.reshape(13684, 1)\n",
    "\n",
    "# Concatenate along axis=1 (horizontally)\n",
    "concatenated_array = np.concatenate((array1_reshaped, pred), axis=1)\n",
    "print(concatenated_array)"
   ]
  },
  {
   "cell_type": "code",
   "execution_count": null,
   "metadata": {},
   "outputs": [
    {
     "name": "stdout",
     "output_type": "stream",
     "text": [
      "Test set MSE: 2185963.2500\n"
     ]
    }
   ],
   "source": [
    "model.eval()\n",
    "with torch.no_grad():\n",
    "    predictions = model(X_test_tensor)\n",
    "    mse = criterion(predictions, y_test_tensor)\n",
    "    print(f'Test set MSE: {mse:.4f}')"
   ]
  },
  {
   "cell_type": "code",
   "execution_count": null,
   "metadata": {},
   "outputs": [
    {
     "name": "stdout",
     "output_type": "stream",
     "text": [
      "Mean Squared Error (MSE): 2185963.3740\n",
      "Mean Absolute Error (MAE): 789.6833\n",
      "R-squared (R²): 0.9551\n"
     ]
    }
   ],
   "source": [
    "from sklearn.metrics import mean_squared_error, mean_absolute_error, r2_score\n",
    "predictions_np_cpu=predictions.to(\"cpu\")\n",
    "mse = mean_squared_error(y_test, predictions_np_cpu)\n",
    "mae = mean_absolute_error(y_test,  predictions_np_cpu)\n",
    "r2 = r2_score(y_test,  predictions_np_cpu)\n",
    "\n",
    "print(f'Mean Squared Error (MSE): {mse:.4f}')\n",
    "print(f'Mean Absolute Error (MAE): {mae:.4f}')\n",
    "print(f'R-squared (R²): {r2:.4f}')\n"
   ]
  },
  {
   "cell_type": "code",
   "execution_count": null,
   "metadata": {},
   "outputs": [],
   "source": [
    "# y_test.shape\n"
   ]
  },
  {
   "cell_type": "code",
   "execution_count": null,
   "metadata": {},
   "outputs": [
    {
     "name": "stdout",
     "output_type": "stream",
     "text": [
      "[[ 5000.          5963.6015625 ]\n",
      " [ 8000.          7418.48730469]\n",
      " [12350.         11063.01367188]\n",
      " ...\n",
      " [ 4475.          4351.99609375]\n",
      " [ 3400.          2637.90722656]\n",
      " [  750.           653.35339355]]\n"
     ]
    }
   ],
   "source": [
    "pred=predictions.cpu().numpy()\n",
    "import numpy as np\n",
    "y_test=y_test.to_numpy()\n",
    "array1_reshaped = y_test.reshape(13684, 1)\n",
    "\n",
    "# Concatenate along axis=1 (horizontally)\n",
    "concatenated_array = np.concatenate((array1_reshaped, pred), axis=1)\n",
    "print(concatenated_array)"
   ]
  },
  {
   "cell_type": "code",
   "execution_count": null,
   "metadata": {},
   "outputs": [
    {
     "name": "stdout",
     "output_type": "stream",
     "text": [
      "Test set MSE: 2185963.2500\n"
     ]
    }
   ],
   "source": [
    "model.eval()\n",
    "with torch.no_grad():\n",
    "    predictions = model(X_test_tensor)\n",
    "    mse = criterion(predictions, y_test_tensor)\n",
    "    print(f'Test set MSE: {mse:.4f}')"
   ]
  },
  {
   "cell_type": "code",
   "execution_count": null,
   "metadata": {},
   "outputs": [
    {
     "name": "stdout",
     "output_type": "stream",
     "text": [
      "Test set MSE: 2185963.2500\n"
     ]
    }
   ],
   "source": [
    "model.eval()\n",
    "with torch.no_grad():\n",
    "    predictions = model(X_test_tensor)\n",
    "    mse = criterion(predictions, y_test_tensor)\n",
    "    print(f'Test set MSE: {mse:.4f}')"
   ]
  },
  {
   "cell_type": "code",
   "execution_count": null,
   "metadata": {},
   "outputs": [
    {
     "name": "stdout",
     "output_type": "stream",
     "text": [
      "Mean Squared Error (MSE): 2185963.3740\n",
      "Mean Absolute Error (MAE): 789.6833\n",
      "R-squared (R²): 0.9551\n"
     ]
    }
   ],
   "source": [
    "from sklearn.metrics import mean_squared_error, mean_absolute_error, r2_score\n",
    "predictions_np_cpu=predictions.to(\"cpu\")\n",
    "mse = mean_squared_error(y_test, predictions_np_cpu)\n",
    "mae = mean_absolute_error(y_test,  predictions_np_cpu)\n",
    "r2 = r2_score(y_test,  predictions_np_cpu)\n",
    "\n",
    "print(f'Mean Squared Error (MSE): {mse:.4f}')\n",
    "print(f'Mean Absolute Error (MAE): {mae:.4f}')\n",
    "print(f'R-squared (R²): {r2:.4f}')\n"
   ]
  },
  {
   "cell_type": "code",
   "execution_count": null,
   "metadata": {},
   "outputs": [],
   "source": [
    "# y_test.shape\n"
   ]
  },
  {
   "cell_type": "code",
   "execution_count": null,
   "metadata": {},
   "outputs": [
    {
     "name": "stdout",
     "output_type": "stream",
     "text": [
      "[[ 5000.          5963.6015625 ]\n",
      " [ 8000.          7418.48730469]\n",
      " [12350.         11063.01367188]\n",
      " ...\n",
      " [ 4475.          4351.99609375]\n",
      " [ 3400.          2637.90722656]\n",
      " [  750.           653.35339355]]\n"
     ]
    }
   ],
   "source": [
    "pred=predictions.cpu().numpy()\n",
    "import numpy as np\n",
    "y_test=y_test.to_numpy()\n",
    "array1_reshaped = y_test.reshape(13684, 1)\n",
    "\n",
    "# Concatenate along axis=1 (horizontally)\n",
    "concatenated_array = np.concatenate((array1_reshaped, pred), axis=1)\n",
    "print(concatenated_array)"
   ]
  },
  {
   "cell_type": "code",
   "execution_count": null,
   "metadata": {},
   "outputs": [
    {
     "name": "stdout",
     "output_type": "stream",
     "text": [
      "Mean Squared Error (MSE): 2185963.3740\n",
      "Mean Absolute Error (MAE): 789.6833\n",
      "R-squared (R²): 0.9551\n"
     ]
    }
   ],
   "source": [
    "from sklearn.metrics import mean_squared_error, mean_absolute_error, r2_score\n",
    "predictions_np_cpu=predictions.to(\"cpu\")\n",
    "mse = mean_squared_error(y_test, predictions_np_cpu)\n",
    "mae = mean_absolute_error(y_test,  predictions_np_cpu)\n",
    "r2 = r2_score(y_test,  predictions_np_cpu)\n",
    "\n",
    "print(f'Mean Squared Error (MSE): {mse:.4f}')\n",
    "print(f'Mean Absolute Error (MAE): {mae:.4f}')\n",
    "print(f'R-squared (R²): {r2:.4f}')\n"
   ]
  },
  {
   "cell_type": "code",
   "execution_count": null,
   "metadata": {},
   "outputs": [],
   "source": [
    "# y_test.shape\n"
   ]
  },
  {
   "cell_type": "code",
   "execution_count": null,
   "metadata": {},
   "outputs": [
    {
     "name": "stdout",
     "output_type": "stream",
     "text": [
      "[[ 5000.          5963.6015625 ]\n",
      " [ 8000.          7418.48730469]\n",
      " [12350.         11063.01367188]\n",
      " ...\n",
      " [ 4475.          4351.99609375]\n",
      " [ 3400.          2637.90722656]\n",
      " [  750.           653.35339355]]\n"
     ]
    }
   ],
   "source": [
    "pred=predictions.cpu().numpy()\n",
    "import numpy as np\n",
    "y_test=y_test.to_numpy()\n",
    "array1_reshaped = y_test.reshape(13684, 1)\n",
    "\n",
    "# Concatenate along axis=1 (horizontally)\n",
    "concatenated_array = np.concatenate((array1_reshaped, pred), axis=1)\n",
    "print(concatenated_array)"
   ]
  },
  {
   "cell_type": "code",
   "execution_count": 72,
   "metadata": {},
   "outputs": [
    {
     "name": "stdout",
     "output_type": "stream",
     "text": [
      "Epoch 1/100, Loss: 1657089.0891\n",
      "Epoch 2/100, Loss: 1657089.0922\n",
      "Epoch 3/100, Loss: 1657089.0885\n",
      "Epoch 4/100, Loss: 1657089.0886\n"
     ]
    },
    {
     "ename": "KeyboardInterrupt",
     "evalue": "",
     "output_type": "error",
     "traceback": [
      "\u001b[1;31m---------------------------------------------------------------------------\u001b[0m",
      "\u001b[1;31mKeyboardInterrupt\u001b[0m                         Traceback (most recent call last)",
      "Cell \u001b[1;32mIn[72], line 27\u001b[0m\n\u001b[0;32m     24\u001b[0m predictions \u001b[38;5;241m=\u001b[39m model(X_batch)\n\u001b[0;32m     25\u001b[0m loss \u001b[38;5;241m=\u001b[39m criterion(predictions, y_batch)\n\u001b[1;32m---> 27\u001b[0m \u001b[43mloss\u001b[49m\u001b[38;5;241;43m.\u001b[39;49m\u001b[43mbackward\u001b[49m\u001b[43m(\u001b[49m\u001b[43m)\u001b[49m\n\u001b[0;32m     28\u001b[0m optimizer\u001b[38;5;241m.\u001b[39mstep()\n\u001b[0;32m     30\u001b[0m running_loss \u001b[38;5;241m+\u001b[39m\u001b[38;5;241m=\u001b[39m loss\u001b[38;5;241m.\u001b[39mitem()\n",
      "File \u001b[1;32mc:\\Users\\ArnavBhatia\\AppData\\Local\\Programs\\Python\\Python312\\Lib\\site-packages\\torch\\_tensor.py:521\u001b[0m, in \u001b[0;36mTensor.backward\u001b[1;34m(self, gradient, retain_graph, create_graph, inputs)\u001b[0m\n\u001b[0;32m    511\u001b[0m \u001b[38;5;28;01mif\u001b[39;00m has_torch_function_unary(\u001b[38;5;28mself\u001b[39m):\n\u001b[0;32m    512\u001b[0m     \u001b[38;5;28;01mreturn\u001b[39;00m handle_torch_function(\n\u001b[0;32m    513\u001b[0m         Tensor\u001b[38;5;241m.\u001b[39mbackward,\n\u001b[0;32m    514\u001b[0m         (\u001b[38;5;28mself\u001b[39m,),\n\u001b[1;32m   (...)\u001b[0m\n\u001b[0;32m    519\u001b[0m         inputs\u001b[38;5;241m=\u001b[39minputs,\n\u001b[0;32m    520\u001b[0m     )\n\u001b[1;32m--> 521\u001b[0m \u001b[43mtorch\u001b[49m\u001b[38;5;241;43m.\u001b[39;49m\u001b[43mautograd\u001b[49m\u001b[38;5;241;43m.\u001b[39;49m\u001b[43mbackward\u001b[49m\u001b[43m(\u001b[49m\n\u001b[0;32m    522\u001b[0m \u001b[43m    \u001b[49m\u001b[38;5;28;43mself\u001b[39;49m\u001b[43m,\u001b[49m\u001b[43m \u001b[49m\u001b[43mgradient\u001b[49m\u001b[43m,\u001b[49m\u001b[43m \u001b[49m\u001b[43mretain_graph\u001b[49m\u001b[43m,\u001b[49m\u001b[43m \u001b[49m\u001b[43mcreate_graph\u001b[49m\u001b[43m,\u001b[49m\u001b[43m \u001b[49m\u001b[43minputs\u001b[49m\u001b[38;5;241;43m=\u001b[39;49m\u001b[43minputs\u001b[49m\n\u001b[0;32m    523\u001b[0m \u001b[43m\u001b[49m\u001b[43m)\u001b[49m\n",
      "File \u001b[1;32mc:\\Users\\ArnavBhatia\\AppData\\Local\\Programs\\Python\\Python312\\Lib\\site-packages\\torch\\autograd\\__init__.py:289\u001b[0m, in \u001b[0;36mbackward\u001b[1;34m(tensors, grad_tensors, retain_graph, create_graph, grad_variables, inputs)\u001b[0m\n\u001b[0;32m    284\u001b[0m     retain_graph \u001b[38;5;241m=\u001b[39m create_graph\n\u001b[0;32m    286\u001b[0m \u001b[38;5;66;03m# The reason we repeat the same comment below is that\u001b[39;00m\n\u001b[0;32m    287\u001b[0m \u001b[38;5;66;03m# some Python versions print out the first line of a multi-line function\u001b[39;00m\n\u001b[0;32m    288\u001b[0m \u001b[38;5;66;03m# calls in the traceback and some print out the last line\u001b[39;00m\n\u001b[1;32m--> 289\u001b[0m \u001b[43m_engine_run_backward\u001b[49m\u001b[43m(\u001b[49m\n\u001b[0;32m    290\u001b[0m \u001b[43m    \u001b[49m\u001b[43mtensors\u001b[49m\u001b[43m,\u001b[49m\n\u001b[0;32m    291\u001b[0m \u001b[43m    \u001b[49m\u001b[43mgrad_tensors_\u001b[49m\u001b[43m,\u001b[49m\n\u001b[0;32m    292\u001b[0m \u001b[43m    \u001b[49m\u001b[43mretain_graph\u001b[49m\u001b[43m,\u001b[49m\n\u001b[0;32m    293\u001b[0m \u001b[43m    \u001b[49m\u001b[43mcreate_graph\u001b[49m\u001b[43m,\u001b[49m\n\u001b[0;32m    294\u001b[0m \u001b[43m    \u001b[49m\u001b[43minputs\u001b[49m\u001b[43m,\u001b[49m\n\u001b[0;32m    295\u001b[0m \u001b[43m    \u001b[49m\u001b[43mallow_unreachable\u001b[49m\u001b[38;5;241;43m=\u001b[39;49m\u001b[38;5;28;43;01mTrue\u001b[39;49;00m\u001b[43m,\u001b[49m\n\u001b[0;32m    296\u001b[0m \u001b[43m    \u001b[49m\u001b[43maccumulate_grad\u001b[49m\u001b[38;5;241;43m=\u001b[39;49m\u001b[38;5;28;43;01mTrue\u001b[39;49;00m\u001b[43m,\u001b[49m\n\u001b[0;32m    297\u001b[0m \u001b[43m\u001b[49m\u001b[43m)\u001b[49m\n",
      "File \u001b[1;32mc:\\Users\\ArnavBhatia\\AppData\\Local\\Programs\\Python\\Python312\\Lib\\site-packages\\torch\\autograd\\graph.py:768\u001b[0m, in \u001b[0;36m_engine_run_backward\u001b[1;34m(t_outputs, *args, **kwargs)\u001b[0m\n\u001b[0;32m    766\u001b[0m     unregister_hooks \u001b[38;5;241m=\u001b[39m _register_logging_hooks_on_whole_graph(t_outputs)\n\u001b[0;32m    767\u001b[0m \u001b[38;5;28;01mtry\u001b[39;00m:\n\u001b[1;32m--> 768\u001b[0m     \u001b[38;5;28;01mreturn\u001b[39;00m \u001b[43mVariable\u001b[49m\u001b[38;5;241;43m.\u001b[39;49m\u001b[43m_execution_engine\u001b[49m\u001b[38;5;241;43m.\u001b[39;49m\u001b[43mrun_backward\u001b[49m\u001b[43m(\u001b[49m\u001b[43m  \u001b[49m\u001b[38;5;66;43;03m# Calls into the C++ engine to run the backward pass\u001b[39;49;00m\n\u001b[0;32m    769\u001b[0m \u001b[43m        \u001b[49m\u001b[43mt_outputs\u001b[49m\u001b[43m,\u001b[49m\u001b[43m \u001b[49m\u001b[38;5;241;43m*\u001b[39;49m\u001b[43margs\u001b[49m\u001b[43m,\u001b[49m\u001b[43m \u001b[49m\u001b[38;5;241;43m*\u001b[39;49m\u001b[38;5;241;43m*\u001b[39;49m\u001b[43mkwargs\u001b[49m\n\u001b[0;32m    770\u001b[0m \u001b[43m    \u001b[49m\u001b[43m)\u001b[49m  \u001b[38;5;66;03m# Calls into the C++ engine to run the backward pass\u001b[39;00m\n\u001b[0;32m    771\u001b[0m \u001b[38;5;28;01mfinally\u001b[39;00m:\n\u001b[0;32m    772\u001b[0m     \u001b[38;5;28;01mif\u001b[39;00m attach_logging_hooks:\n",
      "\u001b[1;31mKeyboardInterrupt\u001b[0m: "
     ]
    }
   ],
   "source": [
    "\n",
    "from collections import OrderedDict\n",
    "import torch.nn as nn\n",
    "          \n",
    "model2= nn.Sequential(OrderedDict([\n",
    "    ('dense1', nn.Linear(8, 100)),\n",
    "    ('act1', nn.ReLU()),\n",
    "    ('dense2', nn.Linear(100, 50)),\n",
    "    ('act2', nn.ReLU()),\n",
    "    ('output', nn.Linear(50, 1)),\n",
    "    ('outact', nn.Sigmoid()),\n",
    "]))\n",
    "model2.to(device)\n",
    "criterion = nn.MSELoss()\n",
    "param=model2.parameters()\n",
    "optimizer = optim.Adam(model2.parameters(), lr=0.001)  \n",
    "epochs=100\n",
    "for epoch in range(epochs):\n",
    "    model2.train()\n",
    "    \n",
    "    running_loss = 0.0\n",
    "    for X_batch, y_batch in train_loader:\n",
    "        optimizer.zero_grad()\n",
    "        \n",
    "        predictions = model(X_batch)\n",
    "        loss = criterion(predictions, y_batch)\n",
    "        \n",
    "        loss.backward()\n",
    "        optimizer.step()\n",
    "        \n",
    "        running_loss += loss.item()\n",
    "    \n",
    "    print(f'Epoch {epoch+1}/{epochs}, Loss: {running_loss/len(train_loader):.4f}')\n",
    "\n",
    "model_path = 'price_prediction_model5.pth'\n",
    "torch.save(model2.state_dict(), model_path)\n",
    "\n",
    "model_path\n"
   ]
  },
  {
   "cell_type": "code",
   "execution_count": null,
   "metadata": {},
   "outputs": [
    {
     "name": "stdout",
     "output_type": "stream",
     "text": [
      "Test set MSE: 81346704.0000\n"
     ]
    },
    {
     "name": "stderr",
     "output_type": "stream",
     "text": [
      "c:\\Users\\ArnavBhatia\\AppData\\Local\\Programs\\Python\\Python312\\Lib\\site-packages\\torch\\nn\\modules\\loss.py:538: UserWarning: Using a target size (torch.Size([13684, 1])) that is different to the input size (torch.Size([13684, 10])). This will likely lead to incorrect results due to broadcasting. Please ensure they have the same size.\n",
      "  return F.mse_loss(input, target, reduction=self.reduction)\n"
     ]
    }
   ],
   "source": [
    "model2.eval()\n",
    "with torch.no_grad():\n",
    "    predictions = model2(X_test_tensor)\n",
    "    mse = criterion(predictions, y_test_tensor)\n",
    "    print(f'Test set MSE: {mse:.4f}')"
   ]
  },
  {
   "cell_type": "code",
   "execution_count": null,
   "metadata": {},
   "outputs": [
    {
     "data": {
      "text/plain": [
       "((13684,), (13684, 10))"
      ]
     },
     "execution_count": 71,
     "metadata": {},
     "output_type": "execute_result"
    }
   ],
   "source": [
    "# y_test.shape,predictions_np_cpu.shape"
   ]
  },
  {
   "cell_type": "code",
   "execution_count": null,
   "metadata": {},
   "outputs": [
    {
     "ename": "ValueError",
     "evalue": "y_true and y_pred have different number of output (1!=10)",
     "output_type": "error",
     "traceback": [
      "\u001b[1;31m---------------------------------------------------------------------------\u001b[0m",
      "\u001b[1;31mValueError\u001b[0m                                Traceback (most recent call last)",
      "Cell \u001b[1;32mIn[70], line 3\u001b[0m\n\u001b[0;32m      1\u001b[0m \u001b[38;5;28;01mfrom\u001b[39;00m \u001b[38;5;21;01msklearn\u001b[39;00m\u001b[38;5;21;01m.\u001b[39;00m\u001b[38;5;21;01mmetrics\u001b[39;00m \u001b[38;5;28;01mimport\u001b[39;00m mean_squared_error, mean_absolute_error, r2_score\n\u001b[0;32m      2\u001b[0m predictions_np_cpu\u001b[38;5;241m=\u001b[39mpredictions\u001b[38;5;241m.\u001b[39mcpu()\u001b[38;5;241m.\u001b[39mnumpy()\n\u001b[1;32m----> 3\u001b[0m mse \u001b[38;5;241m=\u001b[39m \u001b[43mmean_squared_error\u001b[49m\u001b[43m(\u001b[49m\u001b[43my_test\u001b[49m\u001b[43m,\u001b[49m\u001b[43m \u001b[49m\u001b[43mpredictions_np_cpu\u001b[49m\u001b[43m)\u001b[49m\n\u001b[0;32m      4\u001b[0m mae \u001b[38;5;241m=\u001b[39m mean_absolute_error(y_test,  predictions_np_cpu)\n\u001b[0;32m      5\u001b[0m r2 \u001b[38;5;241m=\u001b[39m r2_score(y_test,  predictions_np_cpu)\n",
      "File \u001b[1;32mc:\\Users\\ArnavBhatia\\AppData\\Local\\Programs\\Python\\Python312\\Lib\\site-packages\\sklearn\\utils\\_param_validation.py:213\u001b[0m, in \u001b[0;36mvalidate_params.<locals>.decorator.<locals>.wrapper\u001b[1;34m(*args, **kwargs)\u001b[0m\n\u001b[0;32m    207\u001b[0m \u001b[38;5;28;01mtry\u001b[39;00m:\n\u001b[0;32m    208\u001b[0m     \u001b[38;5;28;01mwith\u001b[39;00m config_context(\n\u001b[0;32m    209\u001b[0m         skip_parameter_validation\u001b[38;5;241m=\u001b[39m(\n\u001b[0;32m    210\u001b[0m             prefer_skip_nested_validation \u001b[38;5;129;01mor\u001b[39;00m global_skip_validation\n\u001b[0;32m    211\u001b[0m         )\n\u001b[0;32m    212\u001b[0m     ):\n\u001b[1;32m--> 213\u001b[0m         \u001b[38;5;28;01mreturn\u001b[39;00m \u001b[43mfunc\u001b[49m\u001b[43m(\u001b[49m\u001b[38;5;241;43m*\u001b[39;49m\u001b[43margs\u001b[49m\u001b[43m,\u001b[49m\u001b[43m \u001b[49m\u001b[38;5;241;43m*\u001b[39;49m\u001b[38;5;241;43m*\u001b[39;49m\u001b[43mkwargs\u001b[49m\u001b[43m)\u001b[49m\n\u001b[0;32m    214\u001b[0m \u001b[38;5;28;01mexcept\u001b[39;00m InvalidParameterError \u001b[38;5;28;01mas\u001b[39;00m e:\n\u001b[0;32m    215\u001b[0m     \u001b[38;5;66;03m# When the function is just a wrapper around an estimator, we allow\u001b[39;00m\n\u001b[0;32m    216\u001b[0m     \u001b[38;5;66;03m# the function to delegate validation to the estimator, but we replace\u001b[39;00m\n\u001b[0;32m    217\u001b[0m     \u001b[38;5;66;03m# the name of the estimator by the name of the function in the error\u001b[39;00m\n\u001b[0;32m    218\u001b[0m     \u001b[38;5;66;03m# message to avoid confusion.\u001b[39;00m\n\u001b[0;32m    219\u001b[0m     msg \u001b[38;5;241m=\u001b[39m re\u001b[38;5;241m.\u001b[39msub(\n\u001b[0;32m    220\u001b[0m         \u001b[38;5;124mr\u001b[39m\u001b[38;5;124m\"\u001b[39m\u001b[38;5;124mparameter of \u001b[39m\u001b[38;5;124m\\\u001b[39m\u001b[38;5;124mw+ must be\u001b[39m\u001b[38;5;124m\"\u001b[39m,\n\u001b[0;32m    221\u001b[0m         \u001b[38;5;124mf\u001b[39m\u001b[38;5;124m\"\u001b[39m\u001b[38;5;124mparameter of \u001b[39m\u001b[38;5;132;01m{\u001b[39;00mfunc\u001b[38;5;241m.\u001b[39m\u001b[38;5;18m__qualname__\u001b[39m\u001b[38;5;132;01m}\u001b[39;00m\u001b[38;5;124m must be\u001b[39m\u001b[38;5;124m\"\u001b[39m,\n\u001b[0;32m    222\u001b[0m         \u001b[38;5;28mstr\u001b[39m(e),\n\u001b[0;32m    223\u001b[0m     )\n",
      "File \u001b[1;32mc:\\Users\\ArnavBhatia\\AppData\\Local\\Programs\\Python\\Python312\\Lib\\site-packages\\sklearn\\metrics\\_regression.py:506\u001b[0m, in \u001b[0;36mmean_squared_error\u001b[1;34m(y_true, y_pred, sample_weight, multioutput, squared)\u001b[0m\n\u001b[0;32m    501\u001b[0m     \u001b[38;5;28;01mif\u001b[39;00m \u001b[38;5;129;01mnot\u001b[39;00m squared:\n\u001b[0;32m    502\u001b[0m         \u001b[38;5;28;01mreturn\u001b[39;00m root_mean_squared_error(\n\u001b[0;32m    503\u001b[0m             y_true, y_pred, sample_weight\u001b[38;5;241m=\u001b[39msample_weight, multioutput\u001b[38;5;241m=\u001b[39mmultioutput\n\u001b[0;32m    504\u001b[0m         )\n\u001b[1;32m--> 506\u001b[0m y_type, y_true, y_pred, multioutput \u001b[38;5;241m=\u001b[39m \u001b[43m_check_reg_targets\u001b[49m\u001b[43m(\u001b[49m\n\u001b[0;32m    507\u001b[0m \u001b[43m    \u001b[49m\u001b[43my_true\u001b[49m\u001b[43m,\u001b[49m\u001b[43m \u001b[49m\u001b[43my_pred\u001b[49m\u001b[43m,\u001b[49m\u001b[43m \u001b[49m\u001b[43mmultioutput\u001b[49m\n\u001b[0;32m    508\u001b[0m \u001b[43m\u001b[49m\u001b[43m)\u001b[49m\n\u001b[0;32m    509\u001b[0m check_consistent_length(y_true, y_pred, sample_weight)\n\u001b[0;32m    510\u001b[0m output_errors \u001b[38;5;241m=\u001b[39m np\u001b[38;5;241m.\u001b[39maverage((y_true \u001b[38;5;241m-\u001b[39m y_pred) \u001b[38;5;241m*\u001b[39m\u001b[38;5;241m*\u001b[39m \u001b[38;5;241m2\u001b[39m, axis\u001b[38;5;241m=\u001b[39m\u001b[38;5;241m0\u001b[39m, weights\u001b[38;5;241m=\u001b[39msample_weight)\n",
      "File \u001b[1;32mc:\\Users\\ArnavBhatia\\AppData\\Local\\Programs\\Python\\Python312\\Lib\\site-packages\\sklearn\\metrics\\_regression.py:122\u001b[0m, in \u001b[0;36m_check_reg_targets\u001b[1;34m(y_true, y_pred, multioutput, dtype, xp)\u001b[0m\n\u001b[0;32m    119\u001b[0m     y_pred \u001b[38;5;241m=\u001b[39m xp\u001b[38;5;241m.\u001b[39mreshape(y_pred, (\u001b[38;5;241m-\u001b[39m\u001b[38;5;241m1\u001b[39m, \u001b[38;5;241m1\u001b[39m))\n\u001b[0;32m    121\u001b[0m \u001b[38;5;28;01mif\u001b[39;00m y_true\u001b[38;5;241m.\u001b[39mshape[\u001b[38;5;241m1\u001b[39m] \u001b[38;5;241m!=\u001b[39m y_pred\u001b[38;5;241m.\u001b[39mshape[\u001b[38;5;241m1\u001b[39m]:\n\u001b[1;32m--> 122\u001b[0m     \u001b[38;5;28;01mraise\u001b[39;00m \u001b[38;5;167;01mValueError\u001b[39;00m(\n\u001b[0;32m    123\u001b[0m         \u001b[38;5;124m\"\u001b[39m\u001b[38;5;124my_true and y_pred have different number of output (\u001b[39m\u001b[38;5;132;01m{0}\u001b[39;00m\u001b[38;5;124m!=\u001b[39m\u001b[38;5;132;01m{1}\u001b[39;00m\u001b[38;5;124m)\u001b[39m\u001b[38;5;124m\"\u001b[39m\u001b[38;5;241m.\u001b[39mformat(\n\u001b[0;32m    124\u001b[0m             y_true\u001b[38;5;241m.\u001b[39mshape[\u001b[38;5;241m1\u001b[39m], y_pred\u001b[38;5;241m.\u001b[39mshape[\u001b[38;5;241m1\u001b[39m]\n\u001b[0;32m    125\u001b[0m         )\n\u001b[0;32m    126\u001b[0m     )\n\u001b[0;32m    128\u001b[0m n_outputs \u001b[38;5;241m=\u001b[39m y_true\u001b[38;5;241m.\u001b[39mshape[\u001b[38;5;241m1\u001b[39m]\n\u001b[0;32m    129\u001b[0m allowed_multioutput_str \u001b[38;5;241m=\u001b[39m (\u001b[38;5;124m\"\u001b[39m\u001b[38;5;124mraw_values\u001b[39m\u001b[38;5;124m\"\u001b[39m, \u001b[38;5;124m\"\u001b[39m\u001b[38;5;124muniform_average\u001b[39m\u001b[38;5;124m\"\u001b[39m, \u001b[38;5;124m\"\u001b[39m\u001b[38;5;124mvariance_weighted\u001b[39m\u001b[38;5;124m\"\u001b[39m)\n",
      "\u001b[1;31mValueError\u001b[0m: y_true and y_pred have different number of output (1!=10)"
     ]
    }
   ],
   "source": [
    "from sklearn.metrics import mean_squared_error, mean_absolute_error, r2_score\n",
    "predictions_np_cpu=predictions.cpu().numpy()\n",
    "mse = mean_squared_error(y_test, predictions_np_cpu)\n",
    "mae = mean_absolute_error(y_test,  predictions_np_cpu)\n",
    "r2 = r2_score(y_test,  predictions_np_cpu)\n",
    "\n",
    "print(f'Mean Squared Error (MSE): {mse:.4f}')\n",
    "print(f'Mean Absolute Error (MAE): {mae:.4f}')\n",
    "print(f'R-squared (R²): {r2:.4f}')"
   ]
  },
  {
   "cell_type": "code",
   "execution_count": null,
   "metadata": {},
   "outputs": [],
   "source": [
    "pred=predictions.cpu().numpy()\n",
    "import numpy as np\n",
    "y_test=y_test.to_numpy()\n",
    "array1_reshaped = y_test.reshape(13684, 1)\n",
    "\n",
    "# Concatenate along axis=1 (horizontally)\n",
    "concatenated_array = np.concatenate((array1_reshaped, pred), axis=1)\n",
    "print(concatenated_array)"
   ]
  },
  {
   "cell_type": "code",
   "execution_count": 79,
   "metadata": {},
   "outputs": [
    {
     "name": "stderr",
     "output_type": "stream",
     "text": [
      "  1%|          | 1/100 [00:11<18:37, 11.29s/it]"
     ]
    },
    {
     "name": "stdout",
     "output_type": "stream",
     "text": [
      "Epoch 1/100, Loss: 29458611.6599\n"
     ]
    },
    {
     "name": "stderr",
     "output_type": "stream",
     "text": [
      "  2%|▏         | 2/100 [00:24<19:49, 12.14s/it]"
     ]
    },
    {
     "name": "stdout",
     "output_type": "stream",
     "text": [
      "Epoch 2/100, Loss: 5481387.9702\n"
     ]
    },
    {
     "name": "stderr",
     "output_type": "stream",
     "text": [
      "  3%|▎         | 3/100 [00:35<19:08, 11.84s/it]"
     ]
    },
    {
     "name": "stdout",
     "output_type": "stream",
     "text": [
      "Epoch 3/100, Loss: 4821891.5089\n"
     ]
    },
    {
     "name": "stderr",
     "output_type": "stream",
     "text": [
      "  4%|▍         | 4/100 [00:46<18:35, 11.62s/it]"
     ]
    },
    {
     "name": "stdout",
     "output_type": "stream",
     "text": [
      "Epoch 4/100, Loss: 4449995.2487\n"
     ]
    },
    {
     "name": "stderr",
     "output_type": "stream",
     "text": [
      "  5%|▌         | 5/100 [00:57<17:52, 11.29s/it]"
     ]
    },
    {
     "name": "stdout",
     "output_type": "stream",
     "text": [
      "Epoch 5/100, Loss: 4311042.7421\n"
     ]
    },
    {
     "name": "stderr",
     "output_type": "stream",
     "text": [
      "  6%|▌         | 6/100 [01:08<17:22, 11.09s/it]"
     ]
    },
    {
     "name": "stdout",
     "output_type": "stream",
     "text": [
      "Epoch 6/100, Loss: 4036318.3944\n"
     ]
    },
    {
     "name": "stderr",
     "output_type": "stream",
     "text": [
      "  7%|▋         | 7/100 [01:18<17:02, 11.00s/it]"
     ]
    },
    {
     "name": "stdout",
     "output_type": "stream",
     "text": [
      "Epoch 7/100, Loss: 4014965.0069\n"
     ]
    },
    {
     "name": "stderr",
     "output_type": "stream",
     "text": [
      "  8%|▊         | 8/100 [01:29<16:41, 10.89s/it]"
     ]
    },
    {
     "name": "stdout",
     "output_type": "stream",
     "text": [
      "Epoch 8/100, Loss: 3681474.8783\n"
     ]
    },
    {
     "name": "stderr",
     "output_type": "stream",
     "text": [
      "  9%|▉         | 9/100 [01:40<16:22, 10.80s/it]"
     ]
    },
    {
     "name": "stdout",
     "output_type": "stream",
     "text": [
      "Epoch 9/100, Loss: 3563893.1806\n"
     ]
    },
    {
     "name": "stderr",
     "output_type": "stream",
     "text": [
      " 10%|█         | 10/100 [01:51<16:26, 10.96s/it]"
     ]
    },
    {
     "name": "stdout",
     "output_type": "stream",
     "text": [
      "Epoch 10/100, Loss: 3427969.2412\n"
     ]
    },
    {
     "name": "stderr",
     "output_type": "stream",
     "text": [
      " 11%|█         | 11/100 [02:02<16:02, 10.82s/it]"
     ]
    },
    {
     "name": "stdout",
     "output_type": "stream",
     "text": [
      "Epoch 11/100, Loss: 3344299.8705\n"
     ]
    },
    {
     "name": "stderr",
     "output_type": "stream",
     "text": [
      " 12%|█▏        | 12/100 [02:12<15:47, 10.77s/it]"
     ]
    },
    {
     "name": "stdout",
     "output_type": "stream",
     "text": [
      "Epoch 12/100, Loss: 3166515.7898\n"
     ]
    },
    {
     "name": "stderr",
     "output_type": "stream",
     "text": [
      " 13%|█▎        | 13/100 [02:23<15:35, 10.75s/it]"
     ]
    },
    {
     "name": "stdout",
     "output_type": "stream",
     "text": [
      "Epoch 13/100, Loss: 3186012.4786\n"
     ]
    },
    {
     "name": "stderr",
     "output_type": "stream",
     "text": [
      " 14%|█▍        | 14/100 [02:34<15:35, 10.88s/it]"
     ]
    },
    {
     "name": "stdout",
     "output_type": "stream",
     "text": [
      "Epoch 14/100, Loss: 3006617.9336\n"
     ]
    },
    {
     "name": "stderr",
     "output_type": "stream",
     "text": [
      " 15%|█▌        | 15/100 [02:45<15:21, 10.84s/it]"
     ]
    },
    {
     "name": "stdout",
     "output_type": "stream",
     "text": [
      "Epoch 15/100, Loss: 3014177.0334\n"
     ]
    },
    {
     "name": "stderr",
     "output_type": "stream",
     "text": [
      " 16%|█▌        | 16/100 [02:56<15:18, 10.93s/it]"
     ]
    },
    {
     "name": "stdout",
     "output_type": "stream",
     "text": [
      "Epoch 16/100, Loss: 2915241.0992\n"
     ]
    },
    {
     "name": "stderr",
     "output_type": "stream",
     "text": [
      " 17%|█▋        | 17/100 [03:07<15:05, 10.92s/it]"
     ]
    },
    {
     "name": "stdout",
     "output_type": "stream",
     "text": [
      "Epoch 17/100, Loss: 2917304.3627\n"
     ]
    },
    {
     "name": "stderr",
     "output_type": "stream",
     "text": [
      " 18%|█▊        | 18/100 [03:18<14:54, 10.91s/it]"
     ]
    },
    {
     "name": "stdout",
     "output_type": "stream",
     "text": [
      "Epoch 18/100, Loss: 2797217.4068\n"
     ]
    },
    {
     "name": "stderr",
     "output_type": "stream",
     "text": [
      " 19%|█▉        | 19/100 [03:29<14:44, 10.92s/it]"
     ]
    },
    {
     "name": "stdout",
     "output_type": "stream",
     "text": [
      "Epoch 19/100, Loss: 2777287.3638\n"
     ]
    },
    {
     "name": "stderr",
     "output_type": "stream",
     "text": [
      " 20%|██        | 20/100 [03:40<14:35, 10.95s/it]"
     ]
    },
    {
     "name": "stdout",
     "output_type": "stream",
     "text": [
      "Epoch 20/100, Loss: 2680493.2681\n"
     ]
    },
    {
     "name": "stderr",
     "output_type": "stream",
     "text": [
      " 21%|██        | 21/100 [03:51<14:20, 10.89s/it]"
     ]
    },
    {
     "name": "stdout",
     "output_type": "stream",
     "text": [
      "Epoch 21/100, Loss: 2665962.4640\n"
     ]
    },
    {
     "name": "stderr",
     "output_type": "stream",
     "text": [
      " 22%|██▏       | 22/100 [04:01<14:07, 10.87s/it]"
     ]
    },
    {
     "name": "stdout",
     "output_type": "stream",
     "text": [
      "Epoch 22/100, Loss: 2661781.9968\n"
     ]
    },
    {
     "name": "stderr",
     "output_type": "stream",
     "text": [
      " 23%|██▎       | 23/100 [04:12<13:50, 10.79s/it]"
     ]
    },
    {
     "name": "stdout",
     "output_type": "stream",
     "text": [
      "Epoch 23/100, Loss: 2588491.8142\n"
     ]
    },
    {
     "name": "stderr",
     "output_type": "stream",
     "text": [
      " 24%|██▍       | 24/100 [04:23<13:37, 10.75s/it]"
     ]
    },
    {
     "name": "stdout",
     "output_type": "stream",
     "text": [
      "Epoch 24/100, Loss: 2598092.1835\n"
     ]
    },
    {
     "name": "stderr",
     "output_type": "stream",
     "text": [
      " 25%|██▌       | 25/100 [04:33<13:28, 10.78s/it]"
     ]
    },
    {
     "name": "stdout",
     "output_type": "stream",
     "text": [
      "Epoch 25/100, Loss: 2532035.0383\n"
     ]
    },
    {
     "name": "stderr",
     "output_type": "stream",
     "text": [
      " 26%|██▌       | 26/100 [04:44<13:15, 10.75s/it]"
     ]
    },
    {
     "name": "stdout",
     "output_type": "stream",
     "text": [
      "Epoch 26/100, Loss: 2472803.9743\n"
     ]
    },
    {
     "name": "stderr",
     "output_type": "stream",
     "text": [
      " 27%|██▋       | 27/100 [04:56<13:21, 10.98s/it]"
     ]
    },
    {
     "name": "stdout",
     "output_type": "stream",
     "text": [
      "Epoch 27/100, Loss: 2498157.4429\n"
     ]
    },
    {
     "name": "stderr",
     "output_type": "stream",
     "text": [
      " 28%|██▊       | 28/100 [05:15<16:18, 13.59s/it]"
     ]
    },
    {
     "name": "stdout",
     "output_type": "stream",
     "text": [
      "Epoch 28/100, Loss: 2425349.4004\n"
     ]
    },
    {
     "name": "stderr",
     "output_type": "stream",
     "text": [
      " 29%|██▉       | 29/100 [05:52<24:19, 20.55s/it]"
     ]
    },
    {
     "name": "stdout",
     "output_type": "stream",
     "text": [
      "Epoch 29/100, Loss: 2417363.4762\n"
     ]
    },
    {
     "name": "stderr",
     "output_type": "stream",
     "text": [
      " 30%|███       | 30/100 [06:33<30:55, 26.51s/it]"
     ]
    },
    {
     "name": "stdout",
     "output_type": "stream",
     "text": [
      "Epoch 30/100, Loss: 2372451.5547\n"
     ]
    },
    {
     "name": "stderr",
     "output_type": "stream",
     "text": [
      " 31%|███       | 31/100 [06:59<30:33, 26.58s/it]"
     ]
    },
    {
     "name": "stdout",
     "output_type": "stream",
     "text": [
      "Epoch 31/100, Loss: 2405800.9570\n"
     ]
    },
    {
     "name": "stderr",
     "output_type": "stream",
     "text": [
      " 32%|███▏      | 32/100 [07:42<35:31, 31.35s/it]"
     ]
    },
    {
     "name": "stdout",
     "output_type": "stream",
     "text": [
      "Epoch 32/100, Loss: 2354641.0172\n"
     ]
    },
    {
     "name": "stderr",
     "output_type": "stream",
     "text": [
      " 33%|███▎      | 33/100 [08:06<32:39, 29.25s/it]"
     ]
    },
    {
     "name": "stdout",
     "output_type": "stream",
     "text": [
      "Epoch 33/100, Loss: 2297282.1238\n"
     ]
    },
    {
     "name": "stderr",
     "output_type": "stream",
     "text": [
      " 34%|███▍      | 34/100 [08:30<30:23, 27.63s/it]"
     ]
    },
    {
     "name": "stdout",
     "output_type": "stream",
     "text": [
      "Epoch 34/100, Loss: 2324609.5663\n"
     ]
    },
    {
     "name": "stderr",
     "output_type": "stream",
     "text": [
      " 35%|███▌      | 35/100 [09:05<32:23, 29.89s/it]"
     ]
    },
    {
     "name": "stdout",
     "output_type": "stream",
     "text": [
      "Epoch 35/100, Loss: 2300585.1733\n"
     ]
    },
    {
     "name": "stderr",
     "output_type": "stream",
     "text": [
      " 36%|███▌      | 36/100 [09:36<32:21, 30.33s/it]"
     ]
    },
    {
     "name": "stdout",
     "output_type": "stream",
     "text": [
      "Epoch 36/100, Loss: 2248114.4627\n"
     ]
    },
    {
     "name": "stderr",
     "output_type": "stream",
     "text": [
      " 37%|███▋      | 37/100 [10:10<32:44, 31.19s/it]"
     ]
    },
    {
     "name": "stdout",
     "output_type": "stream",
     "text": [
      "Epoch 37/100, Loss: 2300390.0635\n"
     ]
    },
    {
     "name": "stderr",
     "output_type": "stream",
     "text": [
      " 38%|███▊      | 38/100 [10:22<26:30, 25.65s/it]"
     ]
    },
    {
     "name": "stdout",
     "output_type": "stream",
     "text": [
      "Epoch 38/100, Loss: 2262041.0828\n"
     ]
    },
    {
     "name": "stderr",
     "output_type": "stream",
     "text": [
      " 39%|███▉      | 39/100 [10:33<21:34, 21.22s/it]"
     ]
    },
    {
     "name": "stdout",
     "output_type": "stream",
     "text": [
      "Epoch 39/100, Loss: 2206673.1339\n"
     ]
    },
    {
     "name": "stderr",
     "output_type": "stream",
     "text": [
      " 40%|████      | 40/100 [10:44<18:04, 18.07s/it]"
     ]
    },
    {
     "name": "stdout",
     "output_type": "stream",
     "text": [
      "Epoch 40/100, Loss: 2197202.8068\n"
     ]
    },
    {
     "name": "stderr",
     "output_type": "stream",
     "text": [
      " 41%|████      | 41/100 [11:00<17:11, 17.48s/it]"
     ]
    },
    {
     "name": "stdout",
     "output_type": "stream",
     "text": [
      "Epoch 41/100, Loss: 2225107.2406\n"
     ]
    },
    {
     "name": "stderr",
     "output_type": "stream",
     "text": [
      " 42%|████▏     | 42/100 [11:42<23:50, 24.67s/it]"
     ]
    },
    {
     "name": "stdout",
     "output_type": "stream",
     "text": [
      "Epoch 42/100, Loss: 2182404.3037\n"
     ]
    },
    {
     "name": "stderr",
     "output_type": "stream",
     "text": [
      " 43%|████▎     | 43/100 [12:22<28:03, 29.53s/it]"
     ]
    },
    {
     "name": "stdout",
     "output_type": "stream",
     "text": [
      "Epoch 43/100, Loss: 2137706.5935\n"
     ]
    },
    {
     "name": "stderr",
     "output_type": "stream",
     "text": [
      " 44%|████▍     | 44/100 [13:00<29:50, 31.97s/it]"
     ]
    },
    {
     "name": "stdout",
     "output_type": "stream",
     "text": [
      "Epoch 44/100, Loss: 2155887.7462\n"
     ]
    },
    {
     "name": "stderr",
     "output_type": "stream",
     "text": [
      " 45%|████▌     | 45/100 [13:21<26:22, 28.77s/it]"
     ]
    },
    {
     "name": "stdout",
     "output_type": "stream",
     "text": [
      "Epoch 45/100, Loss: 2112964.9906\n"
     ]
    },
    {
     "name": "stderr",
     "output_type": "stream",
     "text": [
      " 46%|████▌     | 46/100 [13:56<27:25, 30.48s/it]"
     ]
    },
    {
     "name": "stdout",
     "output_type": "stream",
     "text": [
      "Epoch 46/100, Loss: 2141709.0690\n"
     ]
    },
    {
     "name": "stderr",
     "output_type": "stream",
     "text": [
      " 47%|████▋     | 47/100 [14:29<27:37, 31.28s/it]"
     ]
    },
    {
     "name": "stdout",
     "output_type": "stream",
     "text": [
      "Epoch 47/100, Loss: 2094426.9076\n"
     ]
    },
    {
     "name": "stderr",
     "output_type": "stream",
     "text": [
      " 48%|████▊     | 48/100 [15:03<27:51, 32.14s/it]"
     ]
    },
    {
     "name": "stdout",
     "output_type": "stream",
     "text": [
      "Epoch 48/100, Loss: 2080806.2772\n"
     ]
    },
    {
     "name": "stderr",
     "output_type": "stream",
     "text": [
      " 49%|████▉     | 49/100 [15:36<27:26, 32.29s/it]"
     ]
    },
    {
     "name": "stdout",
     "output_type": "stream",
     "text": [
      "Epoch 49/100, Loss: 2057217.7458\n"
     ]
    },
    {
     "name": "stderr",
     "output_type": "stream",
     "text": [
      " 50%|█████     | 50/100 [16:19<29:37, 35.54s/it]"
     ]
    },
    {
     "name": "stdout",
     "output_type": "stream",
     "text": [
      "Epoch 50/100, Loss: 2093871.1322\n"
     ]
    },
    {
     "name": "stderr",
     "output_type": "stream",
     "text": [
      " 51%|█████     | 51/100 [17:04<31:14, 38.25s/it]"
     ]
    },
    {
     "name": "stdout",
     "output_type": "stream",
     "text": [
      "Epoch 51/100, Loss: 2057503.5087\n"
     ]
    },
    {
     "name": "stderr",
     "output_type": "stream",
     "text": [
      " 52%|█████▏    | 52/100 [17:19<25:01, 31.28s/it]"
     ]
    },
    {
     "name": "stdout",
     "output_type": "stream",
     "text": [
      "Epoch 52/100, Loss: 2044413.6163\n"
     ]
    },
    {
     "name": "stderr",
     "output_type": "stream",
     "text": [
      " 53%|█████▎    | 53/100 [17:58<26:22, 33.67s/it]"
     ]
    },
    {
     "name": "stdout",
     "output_type": "stream",
     "text": [
      "Epoch 53/100, Loss: 2036985.1910\n"
     ]
    },
    {
     "name": "stderr",
     "output_type": "stream",
     "text": [
      " 54%|█████▍    | 54/100 [18:11<21:01, 27.43s/it]"
     ]
    },
    {
     "name": "stdout",
     "output_type": "stream",
     "text": [
      "Epoch 54/100, Loss: 2088855.1166\n"
     ]
    },
    {
     "name": "stderr",
     "output_type": "stream",
     "text": [
      " 55%|█████▌    | 55/100 [18:47<22:31, 30.02s/it]"
     ]
    },
    {
     "name": "stdout",
     "output_type": "stream",
     "text": [
      "Epoch 55/100, Loss: 1990931.6185\n"
     ]
    },
    {
     "name": "stderr",
     "output_type": "stream",
     "text": [
      " 56%|█████▌    | 56/100 [19:21<23:03, 31.44s/it]"
     ]
    },
    {
     "name": "stdout",
     "output_type": "stream",
     "text": [
      "Epoch 56/100, Loss: 2063277.1820\n"
     ]
    },
    {
     "name": "stderr",
     "output_type": "stream",
     "text": [
      " 57%|█████▋    | 57/100 [19:56<23:07, 32.27s/it]"
     ]
    },
    {
     "name": "stdout",
     "output_type": "stream",
     "text": [
      "Epoch 57/100, Loss: 1981378.9688\n"
     ]
    },
    {
     "name": "stderr",
     "output_type": "stream",
     "text": [
      " 58%|█████▊    | 58/100 [20:07<18:11, 26.00s/it]"
     ]
    },
    {
     "name": "stdout",
     "output_type": "stream",
     "text": [
      "Epoch 58/100, Loss: 2032175.8785\n"
     ]
    },
    {
     "name": "stderr",
     "output_type": "stream",
     "text": [
      " 59%|█████▉    | 59/100 [20:19<14:53, 21.80s/it]"
     ]
    },
    {
     "name": "stdout",
     "output_type": "stream",
     "text": [
      "Epoch 59/100, Loss: 1971313.5480\n"
     ]
    },
    {
     "name": "stderr",
     "output_type": "stream",
     "text": [
      " 60%|██████    | 60/100 [20:30<12:19, 18.49s/it]"
     ]
    },
    {
     "name": "stdout",
     "output_type": "stream",
     "text": [
      "Epoch 60/100, Loss: 1985915.3764\n"
     ]
    },
    {
     "name": "stderr",
     "output_type": "stream",
     "text": [
      " 61%|██████    | 61/100 [20:41<10:30, 16.18s/it]"
     ]
    },
    {
     "name": "stdout",
     "output_type": "stream",
     "text": [
      "Epoch 61/100, Loss: 1976852.4702\n"
     ]
    },
    {
     "name": "stderr",
     "output_type": "stream",
     "text": [
      " 62%|██████▏   | 62/100 [20:52<09:16, 14.65s/it]"
     ]
    },
    {
     "name": "stdout",
     "output_type": "stream",
     "text": [
      "Epoch 62/100, Loss: 1990164.9513\n"
     ]
    },
    {
     "name": "stderr",
     "output_type": "stream",
     "text": [
      " 63%|██████▎   | 63/100 [21:03<08:25, 13.67s/it]"
     ]
    },
    {
     "name": "stdout",
     "output_type": "stream",
     "text": [
      "Epoch 63/100, Loss: 1963688.0206\n"
     ]
    },
    {
     "name": "stderr",
     "output_type": "stream",
     "text": [
      " 64%|██████▍   | 64/100 [21:15<07:51, 13.11s/it]"
     ]
    },
    {
     "name": "stdout",
     "output_type": "stream",
     "text": [
      "Epoch 64/100, Loss: 1935555.2247\n"
     ]
    },
    {
     "name": "stderr",
     "output_type": "stream",
     "text": [
      " 65%|██████▌   | 65/100 [21:26<07:14, 12.41s/it]"
     ]
    },
    {
     "name": "stdout",
     "output_type": "stream",
     "text": [
      "Epoch 65/100, Loss: 1941235.0733\n"
     ]
    },
    {
     "name": "stderr",
     "output_type": "stream",
     "text": [
      " 66%|██████▌   | 66/100 [21:36<06:45, 11.93s/it]"
     ]
    },
    {
     "name": "stdout",
     "output_type": "stream",
     "text": [
      "Epoch 66/100, Loss: 1947494.5593\n"
     ]
    },
    {
     "name": "stderr",
     "output_type": "stream",
     "text": [
      " 67%|██████▋   | 67/100 [21:47<06:24, 11.66s/it]"
     ]
    },
    {
     "name": "stdout",
     "output_type": "stream",
     "text": [
      "Epoch 67/100, Loss: 1913921.7491\n"
     ]
    },
    {
     "name": "stderr",
     "output_type": "stream",
     "text": [
      " 68%|██████▊   | 68/100 [21:59<06:11, 11.61s/it]"
     ]
    },
    {
     "name": "stdout",
     "output_type": "stream",
     "text": [
      "Epoch 68/100, Loss: 1955337.6769\n"
     ]
    },
    {
     "name": "stderr",
     "output_type": "stream",
     "text": [
      " 69%|██████▉   | 69/100 [22:10<05:53, 11.39s/it]"
     ]
    },
    {
     "name": "stdout",
     "output_type": "stream",
     "text": [
      "Epoch 69/100, Loss: 1933120.8753\n"
     ]
    },
    {
     "name": "stderr",
     "output_type": "stream",
     "text": [
      " 70%|███████   | 70/100 [22:21<05:37, 11.24s/it]"
     ]
    },
    {
     "name": "stdout",
     "output_type": "stream",
     "text": [
      "Epoch 70/100, Loss: 1906358.3529\n"
     ]
    },
    {
     "name": "stderr",
     "output_type": "stream",
     "text": [
      " 71%|███████   | 71/100 [22:32<05:22, 11.12s/it]"
     ]
    },
    {
     "name": "stdout",
     "output_type": "stream",
     "text": [
      "Epoch 71/100, Loss: 1885595.9767\n"
     ]
    },
    {
     "name": "stderr",
     "output_type": "stream",
     "text": [
      " 72%|███████▏  | 72/100 [22:43<05:12, 11.16s/it]"
     ]
    },
    {
     "name": "stdout",
     "output_type": "stream",
     "text": [
      "Epoch 72/100, Loss: 1893248.6458\n"
     ]
    },
    {
     "name": "stderr",
     "output_type": "stream",
     "text": [
      " 73%|███████▎  | 73/100 [22:54<05:04, 11.29s/it]"
     ]
    },
    {
     "name": "stdout",
     "output_type": "stream",
     "text": [
      "Epoch 73/100, Loss: 1873222.7409\n"
     ]
    },
    {
     "name": "stderr",
     "output_type": "stream",
     "text": [
      " 74%|███████▍  | 74/100 [23:06<04:51, 11.23s/it]"
     ]
    },
    {
     "name": "stdout",
     "output_type": "stream",
     "text": [
      "Epoch 74/100, Loss: 1852388.8122\n"
     ]
    },
    {
     "name": "stderr",
     "output_type": "stream",
     "text": [
      " 75%|███████▌  | 75/100 [23:17<04:39, 11.18s/it]"
     ]
    },
    {
     "name": "stdout",
     "output_type": "stream",
     "text": [
      "Epoch 75/100, Loss: 1864654.7145\n"
     ]
    },
    {
     "name": "stderr",
     "output_type": "stream",
     "text": [
      " 76%|███████▌  | 76/100 [23:28<04:26, 11.11s/it]"
     ]
    },
    {
     "name": "stdout",
     "output_type": "stream",
     "text": [
      "Epoch 76/100, Loss: 1886242.7504\n"
     ]
    },
    {
     "name": "stderr",
     "output_type": "stream",
     "text": [
      " 77%|███████▋  | 77/100 [23:39<04:15, 11.09s/it]"
     ]
    },
    {
     "name": "stdout",
     "output_type": "stream",
     "text": [
      "Epoch 77/100, Loss: 1896776.8569\n"
     ]
    },
    {
     "name": "stderr",
     "output_type": "stream",
     "text": [
      " 78%|███████▊  | 78/100 [23:49<04:01, 10.99s/it]"
     ]
    },
    {
     "name": "stdout",
     "output_type": "stream",
     "text": [
      "Epoch 78/100, Loss: 1817966.9682\n"
     ]
    },
    {
     "name": "stderr",
     "output_type": "stream",
     "text": [
      " 79%|███████▉  | 79/100 [24:00<03:50, 10.96s/it]"
     ]
    },
    {
     "name": "stdout",
     "output_type": "stream",
     "text": [
      "Epoch 79/100, Loss: 1844261.9540\n"
     ]
    },
    {
     "name": "stderr",
     "output_type": "stream",
     "text": [
      " 80%|████████  | 80/100 [24:11<03:39, 10.95s/it]"
     ]
    },
    {
     "name": "stdout",
     "output_type": "stream",
     "text": [
      "Epoch 80/100, Loss: 1823531.4886\n"
     ]
    },
    {
     "name": "stderr",
     "output_type": "stream",
     "text": [
      " 81%|████████  | 81/100 [24:22<03:28, 10.97s/it]"
     ]
    },
    {
     "name": "stdout",
     "output_type": "stream",
     "text": [
      "Epoch 81/100, Loss: 1832442.6040\n"
     ]
    },
    {
     "name": "stderr",
     "output_type": "stream",
     "text": [
      " 82%|████████▏ | 82/100 [24:34<03:22, 11.24s/it]"
     ]
    },
    {
     "name": "stdout",
     "output_type": "stream",
     "text": [
      "Epoch 82/100, Loss: 1828717.0909\n"
     ]
    },
    {
     "name": "stderr",
     "output_type": "stream",
     "text": [
      " 83%|████████▎ | 83/100 [24:46<03:16, 11.59s/it]"
     ]
    },
    {
     "name": "stdout",
     "output_type": "stream",
     "text": [
      "Epoch 83/100, Loss: 1857865.6120\n"
     ]
    },
    {
     "name": "stderr",
     "output_type": "stream",
     "text": [
      " 84%|████████▍ | 84/100 [24:58<03:07, 11.70s/it]"
     ]
    },
    {
     "name": "stdout",
     "output_type": "stream",
     "text": [
      "Epoch 84/100, Loss: 1849628.1763\n"
     ]
    },
    {
     "name": "stderr",
     "output_type": "stream",
     "text": [
      " 85%|████████▌ | 85/100 [25:09<02:51, 11.44s/it]"
     ]
    },
    {
     "name": "stdout",
     "output_type": "stream",
     "text": [
      "Epoch 85/100, Loss: 1863309.3034\n"
     ]
    },
    {
     "name": "stderr",
     "output_type": "stream",
     "text": [
      " 86%|████████▌ | 86/100 [25:20<02:37, 11.27s/it]"
     ]
    },
    {
     "name": "stdout",
     "output_type": "stream",
     "text": [
      "Epoch 86/100, Loss: 1826880.4908\n"
     ]
    },
    {
     "name": "stderr",
     "output_type": "stream",
     "text": [
      " 87%|████████▋ | 87/100 [25:31<02:25, 11.20s/it]"
     ]
    },
    {
     "name": "stdout",
     "output_type": "stream",
     "text": [
      "Epoch 87/100, Loss: 1828088.4432\n"
     ]
    },
    {
     "name": "stderr",
     "output_type": "stream",
     "text": [
      " 88%|████████▊ | 88/100 [25:42<02:12, 11.08s/it]"
     ]
    },
    {
     "name": "stdout",
     "output_type": "stream",
     "text": [
      "Epoch 88/100, Loss: 1791427.2957\n"
     ]
    },
    {
     "name": "stderr",
     "output_type": "stream",
     "text": [
      " 89%|████████▉ | 89/100 [25:53<02:01, 11.07s/it]"
     ]
    },
    {
     "name": "stdout",
     "output_type": "stream",
     "text": [
      "Epoch 89/100, Loss: 1838667.8463\n"
     ]
    },
    {
     "name": "stderr",
     "output_type": "stream",
     "text": [
      " 90%|█████████ | 90/100 [26:04<01:50, 11.08s/it]"
     ]
    },
    {
     "name": "stdout",
     "output_type": "stream",
     "text": [
      "Epoch 90/100, Loss: 1755678.0620\n"
     ]
    },
    {
     "name": "stderr",
     "output_type": "stream",
     "text": [
      " 91%|█████████ | 91/100 [26:15<01:38, 10.98s/it]"
     ]
    },
    {
     "name": "stdout",
     "output_type": "stream",
     "text": [
      "Epoch 91/100, Loss: 1786203.2065\n"
     ]
    },
    {
     "name": "stderr",
     "output_type": "stream",
     "text": [
      " 92%|█████████▏| 92/100 [26:26<01:27, 10.93s/it]"
     ]
    },
    {
     "name": "stdout",
     "output_type": "stream",
     "text": [
      "Epoch 92/100, Loss: 1793024.5826\n"
     ]
    },
    {
     "name": "stderr",
     "output_type": "stream",
     "text": [
      " 93%|█████████▎| 93/100 [26:37<01:16, 10.93s/it]"
     ]
    },
    {
     "name": "stdout",
     "output_type": "stream",
     "text": [
      "Epoch 93/100, Loss: 1752575.7061\n"
     ]
    },
    {
     "name": "stderr",
     "output_type": "stream",
     "text": [
      " 94%|█████████▍| 94/100 [26:47<01:05, 10.90s/it]"
     ]
    },
    {
     "name": "stdout",
     "output_type": "stream",
     "text": [
      "Epoch 94/100, Loss: 1784628.1736\n"
     ]
    },
    {
     "name": "stderr",
     "output_type": "stream",
     "text": [
      " 95%|█████████▌| 95/100 [26:58<00:54, 10.89s/it]"
     ]
    },
    {
     "name": "stdout",
     "output_type": "stream",
     "text": [
      "Epoch 95/100, Loss: 1744862.4232\n"
     ]
    },
    {
     "name": "stderr",
     "output_type": "stream",
     "text": [
      " 96%|█████████▌| 96/100 [27:09<00:43, 10.91s/it]"
     ]
    },
    {
     "name": "stdout",
     "output_type": "stream",
     "text": [
      "Epoch 96/100, Loss: 1721130.0490\n"
     ]
    },
    {
     "name": "stderr",
     "output_type": "stream",
     "text": [
      " 97%|█████████▋| 97/100 [27:20<00:32, 10.87s/it]"
     ]
    },
    {
     "name": "stdout",
     "output_type": "stream",
     "text": [
      "Epoch 97/100, Loss: 1755031.6793\n"
     ]
    },
    {
     "name": "stderr",
     "output_type": "stream",
     "text": [
      " 98%|█████████▊| 98/100 [27:31<00:21, 10.85s/it]"
     ]
    },
    {
     "name": "stdout",
     "output_type": "stream",
     "text": [
      "Epoch 98/100, Loss: 1711956.1126\n"
     ]
    },
    {
     "name": "stderr",
     "output_type": "stream",
     "text": [
      " 99%|█████████▉| 99/100 [27:42<00:10, 10.85s/it]"
     ]
    },
    {
     "name": "stdout",
     "output_type": "stream",
     "text": [
      "Epoch 99/100, Loss: 1721468.6882\n"
     ]
    },
    {
     "name": "stderr",
     "output_type": "stream",
     "text": [
      "100%|██████████| 100/100 [27:52<00:00, 16.73s/it]"
     ]
    },
    {
     "name": "stdout",
     "output_type": "stream",
     "text": [
      "Epoch 100/100, Loss: 1703826.5344\n"
     ]
    },
    {
     "name": "stderr",
     "output_type": "stream",
     "text": [
      "\n"
     ]
    },
    {
     "data": {
      "text/plain": [
       "'price_prediction_model15.pth'"
      ]
     },
     "execution_count": 79,
     "metadata": {},
     "output_type": "execute_result"
    }
   ],
   "source": [
    "import torch\n",
    "import torch.nn as nn\n",
    "import torch.optim as optim\n",
    "from torch.utils.data import TensorDataset, DataLoader\n",
    "from tqdm.auto import tqdm\n",
    "device=\"cuda\" if torch.cuda.is_available() else \"cpu\"\n",
    "# device=\"cpu\"\n",
    "# X_train_tensor = torch.tensor(X_train, dtype=torch.float32).to(device)\n",
    "# y_train_tensor = torch.tensor(y_train.values, dtype=torch.float32).unsqueeze(1).to(device)\n",
    "# X_test_tensor = torch.tensor(X_test, dtype=torch.float32).to(device)\n",
    "# y_test_tensor = torch.tensor(y_test.values, dtype=torch.float32).unsqueeze(1).to(device)\n",
    "\n",
    "batch_size = 16\n",
    "train_dataset = TensorDataset(X_train_tensor, y_train_tensor)\n",
    "train_loader = DataLoader(train_dataset, batch_size=batch_size, shuffle=True)\n",
    "class PricePredictionModel(nn.Module):\n",
    "    def __init__(self):\n",
    "        super(PricePredictionModel, self).__init__()\n",
    "        # self.fc1 = nn.Linear(7, 64)\n",
    "        # self.fc1 = nn.Linear(8, 512)\n",
    "        # self.fc1 = nn.Linear(8, 32)\n",
    "        self.fc1 = nn.Linear(8, 16)\n",
    "        # self.fc2 = nn.Linear(32, 256)\n",
    "        self.fc2 = nn.Linear(16, 256)\n",
    "        # self.fc2 = nn.Linear(512, 256)\n",
    "        self.fc3=nn.Linear(256,128)\n",
    "        self.conv=nn.Conv1d(in_channels=128,out_channels=64,kernel_size=1)\n",
    "        self.conv2 = nn.Conv1d(in_channels=64, out_channels=64, kernel_size=1)\n",
    "        self.conv3 = nn.Conv1d(in_channels=64, out_channels=32, kernel_size=1)\n",
    "        self.fc4 = nn.Linear(32, 16)\n",
    "        self.fc5 = nn.Linear(16, 8)\n",
    "        self.output = nn.Linear(8, 1)\n",
    "    # def forward(self, x):\n",
    "    #     x = torch.relu(self.fc1(x))\n",
    "    #     x = torch.relu(self.fc2(x))\n",
    "    #     x = torch.relu(self.fc3(x))\n",
    "    #     # x=self.conv(x)\n",
    "    #     x = torch.relu(self.fc4(x))\n",
    "    #     x = torch.relu(self.fc5(x))\n",
    "    #     x = self.output(x)\n",
    "    #     return x\n",
    "    def forward(self, x):\n",
    "        # Pass through fully connected layers\n",
    "        x = torch.relu(self.fc1(x))\n",
    "        x = torch.relu(self.fc2(x))\n",
    "        x = torch.relu(self.fc3(x))\n",
    "\n",
    "        # Reshape the tensor to have 128 channels for Conv1d\n",
    "        x = x.view(x.size(0), 128, 1)  # Reshape to [batch_size, in_channels, width]\n",
    "\n",
    "        # Pass through convolutional layer\n",
    "        x = self.conv(x)\n",
    "        x=self.conv2(x)\n",
    "        x=self.conv3(x)\n",
    "\n",
    "\n",
    "        x = x.view(x.size(0), -1)  # Flatten to [batch_size, num_features]\n",
    "\n",
    "\n",
    "        x = torch.relu(self.fc4(x))\n",
    "        x = torch.relu(self.fc5(x))\n",
    "        x = self.output(x)\n",
    "        return x\n",
    "\n",
    "\n",
    "# Initialize the model, loss function, and optimizer\n",
    "model = PricePredictionModel().to(device)\n",
    "criterion = nn.MSELoss()\n",
    "optimizer = optim.Adam(model.parameters(), lr=0.001)\n",
    "\n",
    "# Training the model\n",
    "num_epochs = 100\n",
    "for epoch in tqdm(range(num_epochs)):\n",
    "    model.train()  # Set model to training mode\n",
    "    \n",
    "    running_loss = 0.0\n",
    "    for X_batch, y_batch in train_loader:\n",
    "        optimizer.zero_grad()\n",
    "        \n",
    "        predictions = model(X_batch)\n",
    "        loss = criterion(predictions, y_batch)\n",
    "        \n",
    "        loss.backward()\n",
    "        optimizer.step()\n",
    "        \n",
    "        running_loss += loss.item()\n",
    "    \n",
    "    print(f'Epoch {epoch+1}/{num_epochs}, Loss: {running_loss/len(train_loader):.4f}')\n",
    "\n",
    "model_path = 'price_prediction_model15.pth'\n",
    "torch.save(model.state_dict(), model_path)\n",
    "\n",
    "model_path\n"
   ]
  },
  {
   "cell_type": "code",
   "execution_count": 80,
   "metadata": {},
   "outputs": [
    {
     "name": "stdout",
     "output_type": "stream",
     "text": [
      "Test set MSE: 2158450.7500\n"
     ]
    }
   ],
   "source": [
    "model.eval()\n",
    "with torch.no_grad():\n",
    "    predictions = model(X_test_tensor)\n",
    "    mse = criterion(predictions, y_test_tensor)\n",
    "    print(f'Test set MSE: {mse:.4f}')\n"
   ]
  },
  {
   "cell_type": "code",
   "execution_count": 81,
   "metadata": {},
   "outputs": [
    {
     "name": "stdout",
     "output_type": "stream",
     "text": [
      "Mean Squared Error (MSE): 2158450.8482\n",
      "Mean Absolute Error (MAE): 788.6413\n",
      "R-squared (R²): 0.9557\n"
     ]
    }
   ],
   "source": [
    "from sklearn.metrics import mean_squared_error, mean_absolute_error, r2_score\n",
    "predictions_np_cpu=predictions.to(\"cpu\")\n",
    "mse = mean_squared_error(y_test, predictions_np_cpu)\n",
    "mae = mean_absolute_error(y_test,  predictions_np_cpu)\n",
    "r2 = r2_score(y_test,  predictions_np_cpu)\n",
    "\n",
    "print(f'Mean Squared Error (MSE): {mse:.4f}')\n",
    "print(f'Mean Absolute Error (MAE): {mae:.4f}')\n",
    "print(f'R-squared (R²): {r2:.4f}')\n"
   ]
  },
  {
   "cell_type": "code",
   "execution_count": 82,
   "metadata": {},
   "outputs": [],
   "source": [
    "\n",
    "# y_test.shape\n",
    "\n",
    "pred=predictions.cpu().numpy()\n"
   ]
  },
  {
   "cell_type": "code",
   "execution_count": 84,
   "metadata": {},
   "outputs": [
    {
     "name": "stdout",
     "output_type": "stream",
     "text": [
      "[[ 5000.          5597.02490234]\n",
      " [ 8000.          6191.53173828]\n",
      " [12350.         12022.23046875]\n",
      " ...\n",
      " [ 4475.          4583.40087891]\n",
      " [ 3400.          2936.20776367]\n",
      " [  750.          1000.69744873]]\n"
     ]
    }
   ],
   "source": [
    "import numpy as np\n",
    "# y_test=y_test.to_numpy()\n",
    "array1_reshaped = y_test.reshape(13684, 1)\n",
    "\n",
    "# Concatenate along axis=1 (horizontally)\n",
    "concatenated_array = np.concatenate((array1_reshaped, pred), axis=1)\n",
    "print(concatenated_array)"
   ]
  }
 ],
 "metadata": {
  "kernelspec": {
   "display_name": "Python 3",
   "language": "python",
   "name": "python3"
  },
  "language_info": {
   "codemirror_mode": {
    "name": "ipython",
    "version": 3
   },
   "file_extension": ".py",
   "mimetype": "text/x-python",
   "name": "python",
   "nbconvert_exporter": "python",
   "pygments_lexer": "ipython3",
   "version": "3.12.4"
  }
 },
 "nbformat": 4,
 "nbformat_minor": 2
}
